{
 "cells": [
  {
   "cell_type": "markdown",
   "id": "terminal-burden",
   "metadata": {},
   "source": [
    "# Kmeans Clustering\n",
    "### Cluster lable를 구하면 기존 변수와 상관관계가 높아지게 되어 예측성능이 저하되기에 \n",
    "- Cluster transform(거리)를 구해 (만약 cluster가 n개이면, 기존변수는 모두 버리고 n개의 변수(거리)로 예측)"
   ]
  },
  {
   "cell_type": "code",
   "execution_count": 1,
   "id": "adjacent-advertising",
   "metadata": {},
   "outputs": [
    {
     "data": {
      "text/html": [
       "<style>.container { width:100% !important; }</style>"
      ],
      "text/plain": [
       "<IPython.core.display.HTML object>"
      ]
     },
     "metadata": {},
     "output_type": "display_data"
    }
   ],
   "source": [
    "from IPython.core.interactiveshell import InteractiveShell\n",
    "InteractiveShell.ast_node_interactivity = 'all'\n",
    "from IPython.core.display import display, HTML\n",
    "display(HTML(\"<style>.container { width:100% !important; }</style>\"))\n",
    "import warnings\n",
    "warnings.filterwarnings(action='ignore')\n",
    "\n",
    "import numpy as np\n",
    "import scipy as sp\n",
    "import pandas as pd\n",
    "import matplotlib.pyplot as plt\n",
    "import seaborn as sns\n",
    "\n",
    "plt.rcParams['font.family'] = 'Malgun Gothic'  # 한글 표시\n",
    "plt.rcParams['axes.unicode_minus'] = False  #한글 폰트 사용시 마이너스 폰트 깨짐 해"
   ]
  },
  {
   "cell_type": "code",
   "execution_count": 2,
   "id": "b579a26a",
   "metadata": {},
   "outputs": [
    {
     "data": {
      "text/plain": [
       "(426, 30)"
      ]
     },
     "execution_count": 2,
     "metadata": {},
     "output_type": "execute_result"
    }
   ],
   "source": [
    "from sklearn.linear_model import LogisticRegression\n",
    "from sklearn.datasets import load_breast_cancer\n",
    "from sklearn.model_selection import train_test_split\n",
    "X, y = load_breast_cancer(return_X_y=True)\n",
    "X_train, X_test, y_train, y_test = train_test_split(X, y, random_state=17)\n",
    "X_train.shape"
   ]
  },
  {
   "cell_type": "markdown",
   "id": "6c7254fe",
   "metadata": {},
   "source": [
    "### 1. 원래 특성행렬로 지도학습"
   ]
  },
  {
   "cell_type": "code",
   "execution_count": 3,
   "id": "incomplete-extreme",
   "metadata": {},
   "outputs": [
    {
     "data": {
      "text/plain": [
       "0.9230769230769231"
      ]
     },
     "execution_count": 3,
     "metadata": {},
     "output_type": "execute_result"
    }
   ],
   "source": [
    "lgr = LogisticRegression(random_state=0)\n",
    "lgr.fit(X_train, y_train).score(X_test, y_test)"
   ]
  },
  {
   "cell_type": "markdown",
   "id": "1044bbb6",
   "metadata": {},
   "source": [
    "### 2. 원래 특성행렬과 군집 label 변수로 지도학습"
   ]
  },
  {
   "cell_type": "code",
   "execution_count": 4,
   "id": "exclusive-malpractice",
   "metadata": {
    "scrolled": true
   },
   "outputs": [
    {
     "data": {
      "text/html": [
       "<div><div id=88a0cec9-96bc-4395-8898-7a186021cfb9 style=\"display:none; background-color:#9D6CFF; color:white; width:200px; height:30px; padding-left:5px; border-radius:4px; flex-direction:row; justify-content:space-around; align-items:center;\" onmouseover=\"this.style.backgroundColor='#BA9BF8'\" onmouseout=\"this.style.backgroundColor='#9D6CFF'\" onclick=\"window.commands?.execute('create-mitosheet-from-dataframe-output');\">See Full Dataframe in Mito</div> <script> if (window.commands.hasCommand('create-mitosheet-from-dataframe-output')) document.getElementById('88a0cec9-96bc-4395-8898-7a186021cfb9').style.display = 'flex' </script> <table border=\"1\" class=\"dataframe\">\n",
       "  <thead>\n",
       "    <tr style=\"text-align: right;\">\n",
       "      <th></th>\n",
       "      <th>클러스터</th>\n",
       "    </tr>\n",
       "  </thead>\n",
       "  <tbody>\n",
       "    <tr>\n",
       "      <th>0</th>\n",
       "      <td>0</td>\n",
       "    </tr>\n",
       "    <tr>\n",
       "      <th>1</th>\n",
       "      <td>0</td>\n",
       "    </tr>\n",
       "    <tr>\n",
       "      <th>2</th>\n",
       "      <td>2</td>\n",
       "    </tr>\n",
       "    <tr>\n",
       "      <th>3</th>\n",
       "      <td>0</td>\n",
       "    </tr>\n",
       "    <tr>\n",
       "      <th>4</th>\n",
       "      <td>0</td>\n",
       "    </tr>\n",
       "  </tbody>\n",
       "</table></div>"
      ],
      "text/plain": [
       "   클러스터\n",
       "0     0\n",
       "1     0\n",
       "2     2\n",
       "3     0\n",
       "4     0"
      ]
     },
     "execution_count": 4,
     "metadata": {},
     "output_type": "execute_result"
    },
    {
     "data": {
      "text/plain": [
       "LogisticRegression(random_state=0)"
      ]
     },
     "execution_count": 4,
     "metadata": {},
     "output_type": "execute_result"
    },
    {
     "data": {
      "text/plain": [
       "0.9300699300699301"
      ]
     },
     "execution_count": 4,
     "metadata": {},
     "output_type": "execute_result"
    }
   ],
   "source": [
    "from sklearn.cluster import KMeans\n",
    "kmeans = KMeans(n_clusters=3, random_state=17)\n",
    "X_clusters = kmeans.fit_predict(X_train).reshape(-1, 1)\n",
    "pd.DataFrame(X_clusters, columns=['클러스터']).head()\n",
    "lgr.fit(np.hstack([X_train, X_clusters]), y_train)\n",
    "lgr.score(np.hstack([X_test, kmeans.predict(X_test).reshape(-1, 1)]), y_test)"
   ]
  },
  {
   "cell_type": "markdown",
   "id": "7bfb26d4",
   "metadata": {},
   "source": [
    "### 3. 원래 특성행렬과 군집간의 거리를 변수로 지도학습"
   ]
  },
  {
   "cell_type": "code",
   "execution_count": 5,
   "id": "single-rebate",
   "metadata": {
    "scrolled": false
   },
   "outputs": [
    {
     "data": {
      "text/html": [
       "<div><div id=80e14507-a557-43bf-b1ba-b69997e16a2d style=\"display:none; background-color:#9D6CFF; color:white; width:200px; height:30px; padding-left:5px; border-radius:4px; flex-direction:row; justify-content:space-around; align-items:center;\" onmouseover=\"this.style.backgroundColor='#BA9BF8'\" onmouseout=\"this.style.backgroundColor='#9D6CFF'\" onclick=\"window.commands?.execute('create-mitosheet-from-dataframe-output');\">See Full Dataframe in Mito</div> <script> if (window.commands.hasCommand('create-mitosheet-from-dataframe-output')) document.getElementById('80e14507-a557-43bf-b1ba-b69997e16a2d').style.display = 'flex' </script> <table border=\"1\" class=\"dataframe\">\n",
       "  <thead>\n",
       "    <tr style=\"text-align: right;\">\n",
       "      <th></th>\n",
       "      <th>군집1_거리</th>\n",
       "      <th>군집2_거리</th>\n",
       "      <th>군집3_거리</th>\n",
       "    </tr>\n",
       "  </thead>\n",
       "  <tbody>\n",
       "    <tr>\n",
       "      <th>0</th>\n",
       "      <td>460.810456</td>\n",
       "      <td>2856.187554</td>\n",
       "      <td>1492.436826</td>\n",
       "    </tr>\n",
       "    <tr>\n",
       "      <th>1</th>\n",
       "      <td>246.126672</td>\n",
       "      <td>2155.525148</td>\n",
       "      <td>788.934356</td>\n",
       "    </tr>\n",
       "    <tr>\n",
       "      <th>2</th>\n",
       "      <td>1193.675364</td>\n",
       "      <td>1275.165189</td>\n",
       "      <td>360.824967</td>\n",
       "    </tr>\n",
       "    <tr>\n",
       "      <th>3</th>\n",
       "      <td>177.948433</td>\n",
       "      <td>2578.850344</td>\n",
       "      <td>1211.961091</td>\n",
       "    </tr>\n",
       "    <tr>\n",
       "      <th>4</th>\n",
       "      <td>69.661908</td>\n",
       "      <td>2470.238122</td>\n",
       "      <td>1102.790002</td>\n",
       "    </tr>\n",
       "  </tbody>\n",
       "</table></div>"
      ],
      "text/plain": [
       "        군집1_거리       군집2_거리       군집3_거리\n",
       "0   460.810456  2856.187554  1492.436826\n",
       "1   246.126672  2155.525148   788.934356\n",
       "2  1193.675364  1275.165189   360.824967\n",
       "3   177.948433  2578.850344  1211.961091\n",
       "4    69.661908  2470.238122  1102.790002"
      ]
     },
     "execution_count": 5,
     "metadata": {},
     "output_type": "execute_result"
    },
    {
     "data": {
      "text/plain": [
       "LogisticRegression(random_state=0)"
      ]
     },
     "execution_count": 5,
     "metadata": {},
     "output_type": "execute_result"
    },
    {
     "data": {
      "text/plain": [
       "0.951048951048951"
      ]
     },
     "execution_count": 5,
     "metadata": {},
     "output_type": "execute_result"
    }
   ],
   "source": [
    "X_clusters_distance = kmeans.fit_transform(X_train)\n",
    "distance = ['군집1_거리', '군집2_거리', '군집3_거리']\n",
    "pd.DataFrame(X_clusters_distance, columns=distance).head()\n",
    "lgr.fit(np.hstack([X_train, X_clusters_distance]), y_train)\n",
    "lgr.score(np.hstack([X_test, kmeans.transform(X_test)]), y_test)"
   ]
  },
  {
   "cell_type": "markdown",
   "id": "attended-particular",
   "metadata": {},
   "source": [
    "아마도 원래 데이터와 소속 군집의 무게중심과의 거리는 상관관계가 있다"
   ]
  },
  {
   "cell_type": "code",
   "execution_count": 6,
   "id": "hazardous-approach",
   "metadata": {},
   "outputs": [
    {
     "data": {
      "text/html": [
       "<div><div id=3abf736e-adf4-43e5-ab35-d3cc8ca53495 style=\"display:none; background-color:#9D6CFF; color:white; width:200px; height:30px; padding-left:5px; border-radius:4px; flex-direction:row; justify-content:space-around; align-items:center;\" onmouseover=\"this.style.backgroundColor='#BA9BF8'\" onmouseout=\"this.style.backgroundColor='#9D6CFF'\" onclick=\"window.commands?.execute('create-mitosheet-from-dataframe-output');\">See Full Dataframe in Mito</div> <script> if (window.commands.hasCommand('create-mitosheet-from-dataframe-output')) document.getElementById('3abf736e-adf4-43e5-ab35-d3cc8ca53495').style.display = 'flex' </script> <table border=\"1\" class=\"dataframe\">\n",
       "  <thead>\n",
       "    <tr style=\"text-align: right;\">\n",
       "      <th></th>\n",
       "      <th>worst compactness</th>\n",
       "      <th>worst concavity</th>\n",
       "      <th>worst concave points</th>\n",
       "      <th>worst symmetry</th>\n",
       "      <th>worst fractal dimension</th>\n",
       "      <th>군집1_거리</th>\n",
       "      <th>군집2_거리</th>\n",
       "      <th>군집3_거리</th>\n",
       "    </tr>\n",
       "  </thead>\n",
       "  <tbody>\n",
       "    <tr>\n",
       "      <th>0</th>\n",
       "      <td>0.43100</td>\n",
       "      <td>0.538100</td>\n",
       "      <td>0.07879</td>\n",
       "      <td>0.3322</td>\n",
       "      <td>0.14860</td>\n",
       "      <td>460.810456</td>\n",
       "      <td>2856.187554</td>\n",
       "      <td>1492.436826</td>\n",
       "    </tr>\n",
       "    <tr>\n",
       "      <th>1</th>\n",
       "      <td>0.32620</td>\n",
       "      <td>0.320900</td>\n",
       "      <td>0.13740</td>\n",
       "      <td>0.3068</td>\n",
       "      <td>0.07957</td>\n",
       "      <td>246.126672</td>\n",
       "      <td>2155.525148</td>\n",
       "      <td>788.934356</td>\n",
       "    </tr>\n",
       "    <tr>\n",
       "      <th>2</th>\n",
       "      <td>0.40020</td>\n",
       "      <td>0.421100</td>\n",
       "      <td>0.21340</td>\n",
       "      <td>0.3003</td>\n",
       "      <td>0.10480</td>\n",
       "      <td>1193.675364</td>\n",
       "      <td>1275.165189</td>\n",
       "      <td>360.824967</td>\n",
       "    </tr>\n",
       "    <tr>\n",
       "      <th>3</th>\n",
       "      <td>0.07348</td>\n",
       "      <td>0.004955</td>\n",
       "      <td>0.01111</td>\n",
       "      <td>0.2758</td>\n",
       "      <td>0.06386</td>\n",
       "      <td>177.948433</td>\n",
       "      <td>2578.850344</td>\n",
       "      <td>1211.961091</td>\n",
       "    </tr>\n",
       "    <tr>\n",
       "      <th>4</th>\n",
       "      <td>0.08862</td>\n",
       "      <td>0.114500</td>\n",
       "      <td>0.07431</td>\n",
       "      <td>0.2694</td>\n",
       "      <td>0.06878</td>\n",
       "      <td>69.661908</td>\n",
       "      <td>2470.238122</td>\n",
       "      <td>1102.790002</td>\n",
       "    </tr>\n",
       "  </tbody>\n",
       "</table></div>"
      ],
      "text/plain": [
       "   worst compactness  worst concavity  worst concave points  worst symmetry  \\\n",
       "0            0.43100         0.538100               0.07879          0.3322   \n",
       "1            0.32620         0.320900               0.13740          0.3068   \n",
       "2            0.40020         0.421100               0.21340          0.3003   \n",
       "3            0.07348         0.004955               0.01111          0.2758   \n",
       "4            0.08862         0.114500               0.07431          0.2694   \n",
       "\n",
       "   worst fractal dimension       군집1_거리       군집2_거리       군집3_거리  \n",
       "0                  0.14860   460.810456  2856.187554  1492.436826  \n",
       "1                  0.07957   246.126672  2155.525148   788.934356  \n",
       "2                  0.10480  1193.675364  1275.165189   360.824967  \n",
       "3                  0.06386   177.948433  2578.850344  1211.961091  \n",
       "4                  0.06878    69.661908  2470.238122  1102.790002  "
      ]
     },
     "execution_count": 6,
     "metadata": {},
     "output_type": "execute_result"
    }
   ],
   "source": [
    "col_names = load_breast_cancer()['feature_names'].tolist() + distance\n",
    "data = pd.DataFrame(np.hstack([X_train, X_clusters_distance]), columns=col_names)\n",
    "data.iloc[:, 25:].head()"
   ]
  },
  {
   "cell_type": "code",
   "execution_count": 7,
   "id": "modular-infection",
   "metadata": {},
   "outputs": [
    {
     "data": {
      "text/plain": [
       "<AxesSubplot:>"
      ]
     },
     "execution_count": 7,
     "metadata": {},
     "output_type": "execute_result"
    },
    {
     "data": {
      "text/plain": [
       "(array([ 0.5,  1.5,  2.5,  3.5,  4.5,  5.5,  6.5,  7.5,  8.5,  9.5, 10.5,\n",
       "        11.5, 12.5, 13.5, 14.5, 15.5, 16.5, 17.5, 18.5, 19.5, 20.5, 21.5,\n",
       "        22.5, 23.5, 24.5, 25.5, 26.5, 27.5, 28.5, 29.5, 30.5, 31.5, 32.5]),\n",
       " [Text(0.5, 0, 'mean radius'),\n",
       "  Text(1.5, 0, 'mean texture'),\n",
       "  Text(2.5, 0, 'mean perimeter'),\n",
       "  Text(3.5, 0, 'mean area'),\n",
       "  Text(4.5, 0, 'mean smoothness'),\n",
       "  Text(5.5, 0, 'mean compactness'),\n",
       "  Text(6.5, 0, 'mean concavity'),\n",
       "  Text(7.5, 0, 'mean concave points'),\n",
       "  Text(8.5, 0, 'mean symmetry'),\n",
       "  Text(9.5, 0, 'mean fractal dimension'),\n",
       "  Text(10.5, 0, 'radius error'),\n",
       "  Text(11.5, 0, 'texture error'),\n",
       "  Text(12.5, 0, 'perimeter error'),\n",
       "  Text(13.5, 0, 'area error'),\n",
       "  Text(14.5, 0, 'smoothness error'),\n",
       "  Text(15.5, 0, 'compactness error'),\n",
       "  Text(16.5, 0, 'concavity error'),\n",
       "  Text(17.5, 0, 'concave points error'),\n",
       "  Text(18.5, 0, 'symmetry error'),\n",
       "  Text(19.5, 0, 'fractal dimension error'),\n",
       "  Text(20.5, 0, 'worst radius'),\n",
       "  Text(21.5, 0, 'worst texture'),\n",
       "  Text(22.5, 0, 'worst perimeter'),\n",
       "  Text(23.5, 0, 'worst area'),\n",
       "  Text(24.5, 0, 'worst smoothness'),\n",
       "  Text(25.5, 0, 'worst compactness'),\n",
       "  Text(26.5, 0, 'worst concavity'),\n",
       "  Text(27.5, 0, 'worst concave points'),\n",
       "  Text(28.5, 0, 'worst symmetry'),\n",
       "  Text(29.5, 0, 'worst fractal dimension'),\n",
       "  Text(30.5, 0, '군집1_거리'),\n",
       "  Text(31.5, 0, '군집2_거리'),\n",
       "  Text(32.5, 0, '군집3_거리')])"
      ]
     },
     "execution_count": 7,
     "metadata": {},
     "output_type": "execute_result"
    },
    {
     "data": {
      "image/png": "[encoded data removed]",
      "text/plain": [
       "<Figure size 1080x576 with 2 Axes>"
      ]
     },
     "metadata": {},
     "output_type": "display_data"
    }
   ],
   "source": [
    "sns.set(rc = {'figure.figsize':(15,8)})\n",
    "plt.rcParams['font.family'] = 'Malgun Gothic'  # 한글 표시\n",
    "sns.heatmap(data.corr())\n",
    "plt.xticks(rotation=-45)"
   ]
  },
  {
   "cell_type": "markdown",
   "id": "alone-minority",
   "metadata": {},
   "source": [
    "### 군집간 거리 특성변수만으로 지도학습\n",
    "- 원래 데이터와 군집간 거리와의 상관관계가 존재한다면"
   ]
  },
  {
   "cell_type": "code",
   "execution_count": 8,
   "id": "buried-prescription",
   "metadata": {},
   "outputs": [
    {
     "data": {
      "text/html": [
       "<div><div id=9d8df686-60bd-43f0-82c1-beefd14b7263 style=\"display:none; background-color:#9D6CFF; color:white; width:200px; height:30px; padding-left:5px; border-radius:4px; flex-direction:row; justify-content:space-around; align-items:center;\" onmouseover=\"this.style.backgroundColor='#BA9BF8'\" onmouseout=\"this.style.backgroundColor='#9D6CFF'\" onclick=\"window.commands?.execute('create-mitosheet-from-dataframe-output');\">See Full Dataframe in Mito</div> <script> if (window.commands.hasCommand('create-mitosheet-from-dataframe-output')) document.getElementById('9d8df686-60bd-43f0-82c1-beefd14b7263').style.display = 'flex' </script> <table border=\"1\" class=\"dataframe\">\n",
       "  <thead>\n",
       "    <tr style=\"text-align: right;\">\n",
       "      <th></th>\n",
       "      <th>0</th>\n",
       "      <th>1</th>\n",
       "      <th>2</th>\n",
       "    </tr>\n",
       "  </thead>\n",
       "  <tbody>\n",
       "    <tr>\n",
       "      <th>0</th>\n",
       "      <td>460.810456</td>\n",
       "      <td>2856.187554</td>\n",
       "      <td>1492.436826</td>\n",
       "    </tr>\n",
       "    <tr>\n",
       "      <th>1</th>\n",
       "      <td>246.126672</td>\n",
       "      <td>2155.525148</td>\n",
       "      <td>788.934356</td>\n",
       "    </tr>\n",
       "    <tr>\n",
       "      <th>2</th>\n",
       "      <td>1193.675364</td>\n",
       "      <td>1275.165189</td>\n",
       "      <td>360.824967</td>\n",
       "    </tr>\n",
       "    <tr>\n",
       "      <th>3</th>\n",
       "      <td>177.948433</td>\n",
       "      <td>2578.850344</td>\n",
       "      <td>1211.961091</td>\n",
       "    </tr>\n",
       "    <tr>\n",
       "      <th>4</th>\n",
       "      <td>69.661908</td>\n",
       "      <td>2470.238122</td>\n",
       "      <td>1102.790002</td>\n",
       "    </tr>\n",
       "  </tbody>\n",
       "</table></div>"
      ],
      "text/plain": [
       "             0            1            2\n",
       "0   460.810456  2856.187554  1492.436826\n",
       "1   246.126672  2155.525148   788.934356\n",
       "2  1193.675364  1275.165189   360.824967\n",
       "3   177.948433  2578.850344  1211.961091\n",
       "4    69.661908  2470.238122  1102.790002"
      ]
     },
     "execution_count": 8,
     "metadata": {},
     "output_type": "execute_result"
    },
    {
     "data": {
      "text/plain": [
       "LogisticRegression(random_state=0)"
      ]
     },
     "execution_count": 8,
     "metadata": {},
     "output_type": "execute_result"
    },
    {
     "data": {
      "text/plain": [
       "0.951048951048951"
      ]
     },
     "execution_count": 8,
     "metadata": {},
     "output_type": "execute_result"
    }
   ],
   "source": [
    "kmeans = KMeans(n_clusters=3, random_state=17)\n",
    "X_clusters = kmeans.fit_transform(X_train)\n",
    "pd.DataFrame(X_clusters).head()\n",
    "lgr.fit(X_clusters, y_train)\n",
    "lgr.score(kmeans.transform(X_test), y_test)"
   ]
  },
  {
   "cell_type": "markdown",
   "id": "incorporate-vitamin",
   "metadata": {},
   "source": [
    "### 아주 적은 변수로도 예측 성능이 높아지게 되었으며 K-means 방법론은 차원 축소알고리즘으로 사용이 가능"
   ]
  },
  {
   "cell_type": "markdown",
   "id": "8d01fe23",
   "metadata": {},
   "source": [
    "### 다중공선성이 높은 변수를 제거하여 예측"
   ]
  },
  {
   "cell_type": "code",
   "execution_count": 19,
   "id": "3befc72a",
   "metadata": {
    "scrolled": false
   },
   "outputs": [
    {
     "data": {
      "text/html": [
       "<div><div id=462cd48f-1d75-414c-aae3-91d8f7a5e560 style=\"display:none; background-color:#9D6CFF; color:white; width:200px; height:30px; padding-left:5px; border-radius:4px; flex-direction:row; justify-content:space-around; align-items:center;\" onmouseover=\"this.style.backgroundColor='#BA9BF8'\" onmouseout=\"this.style.backgroundColor='#9D6CFF'\" onclick=\"window.commands?.execute('create-mitosheet-from-dataframe-output');\">See Full Dataframe in Mito</div> <script> if (window.commands.hasCommand('create-mitosheet-from-dataframe-output')) document.getElementById('462cd48f-1d75-414c-aae3-91d8f7a5e560').style.display = 'flex' </script> <table border=\"1\" class=\"dataframe\">\n",
       "  <thead>\n",
       "    <tr style=\"text-align: right;\">\n",
       "      <th></th>\n",
       "      <th>VIF Factor</th>\n",
       "      <th>features</th>\n",
       "    </tr>\n",
       "  </thead>\n",
       "  <tbody>\n",
       "    <tr>\n",
       "      <th>0</th>\n",
       "      <td>75063.806341</td>\n",
       "      <td>mean radius</td>\n",
       "    </tr>\n",
       "    <tr>\n",
       "      <th>2</th>\n",
       "      <td>72638.083625</td>\n",
       "      <td>mean perimeter</td>\n",
       "    </tr>\n",
       "    <tr>\n",
       "      <th>20</th>\n",
       "      <td>11987.676355</td>\n",
       "      <td>worst radius</td>\n",
       "    </tr>\n",
       "    <tr>\n",
       "      <th>22</th>\n",
       "      <td>5120.454159</td>\n",
       "      <td>worst perimeter</td>\n",
       "    </tr>\n",
       "    <tr>\n",
       "      <th>3</th>\n",
       "      <td>2215.040959</td>\n",
       "      <td>mean area</td>\n",
       "    </tr>\n",
       "    <tr>\n",
       "      <th>23</th>\n",
       "      <td>1742.875718</td>\n",
       "      <td>worst area</td>\n",
       "    </tr>\n",
       "    <tr>\n",
       "      <th>9</th>\n",
       "      <td>1209.599724</td>\n",
       "      <td>mean fractal dimension</td>\n",
       "    </tr>\n",
       "    <tr>\n",
       "      <th>31</th>\n",
       "      <td>554.022525</td>\n",
       "      <td>군집2_거리</td>\n",
       "    </tr>\n",
       "    <tr>\n",
       "      <th>29</th>\n",
       "      <td>483.259001</td>\n",
       "      <td>worst fractal dimension</td>\n",
       "    </tr>\n",
       "    <tr>\n",
       "      <th>24</th>\n",
       "      <td>430.637882</td>\n",
       "      <td>worst smoothness</td>\n",
       "    </tr>\n",
       "    <tr>\n",
       "      <th>4</th>\n",
       "      <td>426.566216</td>\n",
       "      <td>mean smoothness</td>\n",
       "    </tr>\n",
       "    <tr>\n",
       "      <th>21</th>\n",
       "      <td>378.452524</td>\n",
       "      <td>worst texture</td>\n",
       "    </tr>\n",
       "    <tr>\n",
       "      <th>10</th>\n",
       "      <td>336.990496</td>\n",
       "      <td>radius error</td>\n",
       "    </tr>\n",
       "    <tr>\n",
       "      <th>12</th>\n",
       "      <td>318.340201</td>\n",
       "      <td>perimeter error</td>\n",
       "    </tr>\n",
       "    <tr>\n",
       "      <th>1</th>\n",
       "      <td>272.037145</td>\n",
       "      <td>mean texture</td>\n",
       "    </tr>\n",
       "    <tr>\n",
       "      <th>28</th>\n",
       "      <td>241.918384</td>\n",
       "      <td>worst symmetry</td>\n",
       "    </tr>\n",
       "    <tr>\n",
       "      <th>5</th>\n",
       "      <td>217.081769</td>\n",
       "      <td>mean compactness</td>\n",
       "    </tr>\n",
       "    <tr>\n",
       "      <th>8</th>\n",
       "      <td>194.496244</td>\n",
       "      <td>mean symmetry</td>\n",
       "    </tr>\n",
       "    <tr>\n",
       "      <th>27</th>\n",
       "      <td>159.892778</td>\n",
       "      <td>worst concave points</td>\n",
       "    </tr>\n",
       "    <tr>\n",
       "      <th>6</th>\n",
       "      <td>155.025206</td>\n",
       "      <td>mean concavity</td>\n",
       "    </tr>\n",
       "    <tr>\n",
       "      <th>7</th>\n",
       "      <td>151.101660</td>\n",
       "      <td>mean concave points</td>\n",
       "    </tr>\n",
       "    <tr>\n",
       "      <th>25</th>\n",
       "      <td>143.225920</td>\n",
       "      <td>worst compactness</td>\n",
       "    </tr>\n",
       "    <tr>\n",
       "      <th>13</th>\n",
       "      <td>135.736335</td>\n",
       "      <td>area error</td>\n",
       "    </tr>\n",
       "    <tr>\n",
       "      <th>26</th>\n",
       "      <td>84.841609</td>\n",
       "      <td>worst concavity</td>\n",
       "    </tr>\n",
       "    <tr>\n",
       "      <th>30</th>\n",
       "      <td>72.678070</td>\n",
       "      <td>군집1_거리</td>\n",
       "    </tr>\n",
       "    <tr>\n",
       "      <th>17</th>\n",
       "      <td>68.165100</td>\n",
       "      <td>concave points error</td>\n",
       "    </tr>\n",
       "    <tr>\n",
       "      <th>15</th>\n",
       "      <td>51.358398</td>\n",
       "      <td>compactness error</td>\n",
       "    </tr>\n",
       "    <tr>\n",
       "      <th>32</th>\n",
       "      <td>42.976080</td>\n",
       "      <td>군집3_거리</td>\n",
       "    </tr>\n",
       "    <tr>\n",
       "      <th>18</th>\n",
       "      <td>42.130693</td>\n",
       "      <td>symmetry error</td>\n",
       "    </tr>\n",
       "    <tr>\n",
       "      <th>19</th>\n",
       "      <td>37.582540</td>\n",
       "      <td>fractal dimension error</td>\n",
       "    </tr>\n",
       "    <tr>\n",
       "      <th>16</th>\n",
       "      <td>36.458243</td>\n",
       "      <td>concavity error</td>\n",
       "    </tr>\n",
       "    <tr>\n",
       "      <th>14</th>\n",
       "      <td>35.431263</td>\n",
       "      <td>smoothness error</td>\n",
       "    </tr>\n",
       "    <tr>\n",
       "      <th>11</th>\n",
       "      <td>25.599723</td>\n",
       "      <td>texture error</td>\n",
       "    </tr>\n",
       "  </tbody>\n",
       "</table></div>"
      ],
      "text/plain": [
       "      VIF Factor                 features\n",
       "0   75063.806341              mean radius\n",
       "2   72638.083625           mean perimeter\n",
       "20  11987.676355             worst radius\n",
       "22   5120.454159          worst perimeter\n",
       "3    2215.040959                mean area\n",
       "23   1742.875718               worst area\n",
       "9    1209.599724   mean fractal dimension\n",
       "31    554.022525                   군집2_거리\n",
       "29    483.259001  worst fractal dimension\n",
       "24    430.637882         worst smoothness\n",
       "4     426.566216          mean smoothness\n",
       "21    378.452524            worst texture\n",
       "10    336.990496             radius error\n",
       "12    318.340201          perimeter error\n",
       "1     272.037145             mean texture\n",
       "28    241.918384           worst symmetry\n",
       "5     217.081769         mean compactness\n",
       "8     194.496244            mean symmetry\n",
       "27    159.892778     worst concave points\n",
       "6     155.025206           mean concavity\n",
       "7     151.101660      mean concave points\n",
       "25    143.225920        worst compactness\n",
       "13    135.736335               area error\n",
       "26     84.841609          worst concavity\n",
       "30     72.678070                   군집1_거리\n",
       "17     68.165100     concave points error\n",
       "15     51.358398        compactness error\n",
       "32     42.976080                   군집3_거리\n",
       "18     42.130693           symmetry error\n",
       "19     37.582540  fractal dimension error\n",
       "16     36.458243          concavity error\n",
       "14     35.431263         smoothness error\n",
       "11     25.599723            texture error"
      ]
     },
     "execution_count": 19,
     "metadata": {},
     "output_type": "execute_result"
    }
   ],
   "source": [
    "from statsmodels.stats.outliers_influence import variance_inflation_factor\n",
    "vif = pd.DataFrame()\n",
    "vif[\"VIF Factor\"] = [variance_inflation_factor(data, i) for i in range(data.shape[1])]\n",
    "vif[\"features\"] = data.columns\n",
    "vif.sort_values('VIF Factor', ascending=False)"
   ]
  },
  {
   "cell_type": "code",
   "execution_count": 10,
   "id": "6f7bdc73",
   "metadata": {},
   "outputs": [
    {
     "data": {
      "text/plain": [
       "'worst concavity/군집1_거리/concave points error/compactness error/군집3_거리/symmetry error/fractal dimension error/concavity error/smoothness error/texture error'"
      ]
     },
     "execution_count": 10,
     "metadata": {},
     "output_type": "execute_result"
    }
   ],
   "source": [
    "nf = vif.sort_values('VIF Factor', ascending=False).tail(10)['features'].to_list()\n",
    "'/'.join(nf)"
   ]
  },
  {
   "cell_type": "markdown",
   "id": "honest-glass",
   "metadata": {},
   "source": [
    "# End"
   ]
  }
 ],
 "metadata": {
  "kernelspec": {
   "display_name": "Python 3 (ipykernel)",
   "language": "python",
   "name": "python3"
  },
  "language_info": {
   "codemirror_mode": {
    "name": "ipython",
    "version": 3
   },
   "file_extension": ".py",
   "mimetype": "text/x-python",
   "name": "python",
   "nbconvert_exporter": "python",
   "pygments_lexer": "ipython3",
   "version": "3.8.8"
  }
 },
 "nbformat": 4,
 "nbformat_minor": 5
}
