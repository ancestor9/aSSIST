{
 "cells": [
  {
   "cell_type": "markdown",
   "id": "6c5041f9",
   "metadata": {},
   "source": [
    "# 편향과 분산\n",
    "<img src='https://images.unsplash.com/photo-1603123854557-1fbbdd6b4bb3?ixlib=rb-1.2.1&ixid=MnwxMjA3fDB8MHxzZWFyY2h8M3x8c3RyaWd0aCUyMG9yJTIwdnVydmV8ZW58MHx8MHx8&auto=format&fit=crop&w=500&q=60'>"
   ]
  },
  {
   "cell_type": "code",
   "execution_count": 2,
   "id": "eeaf4c66",
   "metadata": {},
   "outputs": [],
   "source": [
    "from IPython.core.interactiveshell import InteractiveShell # 모든 명령어 출력\n",
    "InteractiveShell.ast_node_interactivity = 'all'\n",
    "import warnings\n",
    "warnings.filterwarnings('ignore')\n",
    "\n",
    "from mlxtend.evaluate import bias_variance_decomp\n",
    "from sklearn.tree import DecisionTreeRegressor\n",
    "from sklearn.model_selection import train_test_split\n",
    "from sklearn.ensemble import RandomForestRegressor\n",
    "from mlxtend.data import boston_housing_data\n",
    "import pandas as pd\n",
    "import matplotlib.pyplot as plt\n",
    "import numpy as np\n",
    "from sklearn.linear_model import LinearRegression, Lasso\n",
    "from sklearn.neighbors import KNeighborsRegressor"
   ]
  },
  {
   "cell_type": "markdown",
   "id": "16fffd4b",
   "metadata": {},
   "source": [
    "# 1. bias-variance-decomposition \n",
    "https://towardsdatascience.com/bias-variance-decomposition-d0e22d1506b1"
   ]
  },
  {
   "cell_type": "code",
   "execution_count": 3,
   "id": "ef6e764f",
   "metadata": {},
   "outputs": [],
   "source": [
    "def get_bias_var(tree, X_train, y_train, X_test, y_test, loss_type):\n",
    "    avg_expected_loss, avg_bias, avg_var = bias_variance_decomp(tree, X_train, y_train, X_test, y_test, loss=loss_type, random_seed=123)\n",
    "\n",
    "    print('Average expected loss: %.3f' % avg_expected_loss)\n",
    "    print('Average bias: %.3f' % avg_bias)\n",
    "    print('Average variance: %.3f' % avg_var)\n",
    "    return"
   ]
  },
  {
   "cell_type": "markdown",
   "id": "134d8ec7",
   "metadata": {},
   "source": [
    "## Pruning DT reduces the variance\n",
    "### tree vs. tree_pruned의 편향과 분산"
   ]
  },
  {
   "cell_type": "code",
   "execution_count": 4,
   "id": "097733b1",
   "metadata": {},
   "outputs": [
    {
     "name": "stdout",
     "output_type": "stream",
     "text": [
      "variance Reduction: -61.1%\n",
      "At the expense of introducing bias: 112.98%\n"
     ]
    }
   ],
   "source": [
    "X, y = boston_housing_data()\n",
    "X_train, X_test, y_train, y_test = train_test_split(X, y, test_size=0.3, random_state=123, shuffle=True)\n",
    "\n",
    "tree = DecisionTreeRegressor(random_state=123)\n",
    "error_dt, bias_dt, var_dt = bias_variance_decomp(tree, X_train, y_train, X_test, y_test,'mse', random_seed=123)\n",
    "\n",
    "tree_pruned = DecisionTreeRegressor(random_state=123, max_depth=2)\n",
    "error_dt_pruned, bias_dt_pruned, var_dt_pruned = bias_variance_decomp(tree_pruned, X_train, y_train, X_test, y_test,'mse', random_seed=123)\n",
    "\n",
    "print(\"variance Reduction:\", str(np.round((var_dt_pruned/var_dt-1)*100,2)) + '%')\n",
    "print(\"At the expense of introducing bias:\", str(np.round((bias_dt_pruned/bias_dt-1)*100, 2)) + '%')"
   ]
  },
  {
   "cell_type": "markdown",
   "id": "8dba5f9b",
   "metadata": {},
   "source": [
    "## Using Ensemble/Random Forest to reduce variance"
   ]
  },
  {
   "cell_type": "code",
   "execution_count": 5,
   "id": "e524de8c",
   "metadata": {},
   "outputs": [
    {
     "name": "stdout",
     "output_type": "stream",
     "text": [
      "variance Reduction: -82.0%\n",
      "At the expense of introducing bias: 9.24%\n"
     ]
    }
   ],
   "source": [
    "tree = DecisionTreeRegressor(random_state=123)\n",
    "error_dt, bias_dt, var_dt = bias_variance_decomp(tree, X_train, y_train, X_test, y_test,'mse', random_seed=123)\n",
    "\n",
    "tree_rf = RandomForestRegressor(random_state=123)\n",
    "error_rf, bias_rf, var_rf = bias_variance_decomp(tree_rf, X_train, y_train, X_test, y_test,'mse', random_seed=123)\n",
    "\n",
    "print(\"variance Reduction:\", str(np.round((var_rf/var_dt-1)*100,2))+ '%')\n",
    "print(\"At the expense of introducing bias:\", str(np.round((bias_rf/bias_dt-1)*100, 2)) + '%')"
   ]
  },
  {
   "cell_type": "markdown",
   "id": "5480daac",
   "metadata": {},
   "source": [
    "## KNN -- a high value of k leads to high bias and low variance"
   ]
  },
  {
   "cell_type": "code",
   "execution_count": 9,
   "id": "2b5d3fb0",
   "metadata": {},
   "outputs": [
    {
     "data": {
      "text/plain": [
       "[<matplotlib.lines.Line2D at 0x1e6d6a02be0>]"
      ]
     },
     "execution_count": 9,
     "metadata": {},
     "output_type": "execute_result"
    },
    {
     "data": {
      "text/plain": [
       "[<matplotlib.lines.Line2D at 0x1e6d6a02160>]"
      ]
     },
     "execution_count": 9,
     "metadata": {},
     "output_type": "execute_result"
    },
    {
     "data": {
      "text/plain": [
       "[<matplotlib.lines.Line2D at 0x1e6d6a4b1f0>]"
      ]
     },
     "execution_count": 9,
     "metadata": {},
     "output_type": "execute_result"
    },
    {
     "data": {
      "text/plain": [
       "<matplotlib.legend.Legend at 0x1e6d6a02fd0>"
      ]
     },
     "execution_count": 9,
     "metadata": {},
     "output_type": "execute_result"
    },
    {
     "data": {
      "image/png": "[encoded data removed]",
      "text/plain": [
       "<Figure size 432x288 with 1 Axes>"
      ]
     },
     "metadata": {
      "needs_background": "light"
     },
     "output_type": "display_data"
    }
   ],
   "source": [
    "bias_knn, var_knn, error_knn = [], [], []\n",
    "\n",
    "for k in range(1, 15):\n",
    "    clf_knn = KNeighborsRegressor(n_neighbors=k)\n",
    "    avg_expected_loss, avg_bias, avg_var  = avg_expected_loss, avg_bias, avg_var = bias_variance_decomp(clf_knn, X_train, y_train, X_test, y_test, loss='mse', random_seed=123)\n",
    "    bias_knn.append(avg_bias)\n",
    "    var_knn.append(avg_var)\n",
    "    error_knn.append(avg_expected_loss)\n",
    "plt.plot(range(1,15), error_knn, 'b', label = 'total_error')\n",
    "plt.plot(range(1,15), bias_knn, 'k', label = 'bias')\n",
    "plt.plot(range(1,15), var_knn, 'y', label = 'variance')\n",
    "plt.legend()"
   ]
  },
  {
   "cell_type": "markdown",
   "id": "a45509e7",
   "metadata": {},
   "source": [
    "## Adding features bring down the bias"
   ]
  },
  {
   "cell_type": "code",
   "execution_count": 10,
   "id": "575d6f9d",
   "metadata": {},
   "outputs": [
    {
     "data": {
      "text/plain": [
       "DecisionTreeRegressor(random_state=123)"
      ]
     },
     "execution_count": 10,
     "metadata": {},
     "output_type": "execute_result"
    },
    {
     "name": "stdout",
     "output_type": "stream",
     "text": [
      "Top 6 features controbute 95% of total feature importance: 0.959406219367535\n"
     ]
    },
    {
     "data": {
      "text/plain": [
       "[<matplotlib.lines.Line2D at 0x1e6d6acd2e0>]"
      ]
     },
     "execution_count": 10,
     "metadata": {},
     "output_type": "execute_result"
    },
    {
     "data": {
      "text/plain": [
       "[<matplotlib.lines.Line2D at 0x1e6d6acd700>]"
      ]
     },
     "execution_count": 10,
     "metadata": {},
     "output_type": "execute_result"
    },
    {
     "data": {
      "text/plain": [
       "[<matplotlib.lines.Line2D at 0x1e6d6acda90>]"
      ]
     },
     "execution_count": 10,
     "metadata": {},
     "output_type": "execute_result"
    },
    {
     "data": {
      "text/plain": [
       "<matplotlib.legend.Legend at 0x1e6d4640760>"
      ]
     },
     "execution_count": 10,
     "metadata": {},
     "output_type": "execute_result"
    },
    {
     "data": {
      "image/png": "[encoded data removed]",
      "text/plain": [
       "<Figure size 432x288 with 1 Axes>"
      ]
     },
     "metadata": {
      "needs_background": "light"
     },
     "output_type": "display_data"
    }
   ],
   "source": [
    "tree = DecisionTreeRegressor(random_state=123)\n",
    "tree.fit(X_train, y_train)\n",
    "feat_array = tree.feature_importances_\n",
    "\n",
    "df_feat = pd.DataFrame()\n",
    "name_list, importance_list = [], []\n",
    "\n",
    "for name, importance in zip(range(X_train.shape[1]), feat_array):\n",
    "    name_list.append(name)\n",
    "    importance_list.append(importance)\n",
    "df_feat['name'] = name_list\n",
    "df_feat['importance'] = importance_list\n",
    "\n",
    "print(\"Top 6 features controbute 95% of total feature importance:\", df_feat.sort_values(by = 'importance', ascending = False).head(6)['importance'].sum())\n",
    "\n",
    "error_fs, bias_fs, var_fs  = [], [], []\n",
    "feat_count = [2,3,4,5,6,7,8,9,10,11,12]\n",
    "for feat in feat_count:\n",
    "    top_feat = df_feat.sort_values(by = 'importance', ascending = False).head(feat)['name'].values\n",
    "    X_train_fs = X_train[:, top_feat]\n",
    "    X_test_fs = X_test[:, top_feat]\n",
    "    avg_expected_loss, avg_bias, avg_var = bias_variance_decomp(tree, X_train_fs, y_train, X_test_fs, y_test, loss='mse', random_seed=123)\n",
    "    error_fs.append(avg_expected_loss)\n",
    "    bias_fs.append(avg_bias)\n",
    "    var_fs.append(avg_var)\n",
    "    \n",
    "plt.plot(feat_count, error_fs, 'b', label = 'total_error')\n",
    "plt.plot(feat_count, bias_fs, 'k', label = 'bias')\n",
    "plt.plot(feat_count, var_fs, 'y', label = 'variance')\n",
    "plt.legend()"
   ]
  },
  {
   "cell_type": "markdown",
   "id": "1ee0ea69",
   "metadata": {},
   "source": [
    "## Regularization to control the variance"
   ]
  },
  {
   "cell_type": "code",
   "execution_count": 11,
   "id": "0dde98f9",
   "metadata": {},
   "outputs": [
    {
     "name": "stdout",
     "output_type": "stream",
     "text": [
      "variance Reduction: -8.300876521565936\n",
      "At the expense of introducing bias: 5.913326786791506\n"
     ]
    }
   ],
   "source": [
    "linear_model = LinearRegression()\n",
    "lasso_model = Lasso(alpha=0.05)\n",
    "error_reg, bias_reg, var_reg = bias_variance_decomp(lasso_model, X_train, y_train, X_test, y_test, loss='mse', random_seed=123)\n",
    "error_no_reg, bias_no_reg, var_no_reg = bias_variance_decomp(linear_model, X_train, y_train, X_test, y_test, loss='mse', random_seed=123)\n",
    "print(\"variance Reduction:\", (var_reg/var_no_reg-1)*100)\n",
    "print(\"At the expense of introducing bias:\", (bias_reg/bias_no_reg-1)*100)"
   ]
  },
  {
   "cell_type": "markdown",
   "id": "7bff644d",
   "metadata": {},
   "source": [
    "# 2. Bias-Variance Decomposition for Model Assessment\n",
    "### Bias-variance decomposition of machine learning algorithms with a hands-on example in Python\n",
    "https://towardsdatascience.com/bias-and-variance-for-model-assessment-a2edb69d097f"
   ]
  },
  {
   "cell_type": "code",
   "execution_count": 14,
   "id": "28a41af1",
   "metadata": {},
   "outputs": [],
   "source": [
    "import tensorflow as tf\n",
    "from tensorflow.keras.layers import Dense\n",
    "from tensorflow.keras.models import Sequential\n",
    "\n",
    "from mlxtend.evaluate import bias_variance_decomp\n",
    "from mlxtend.data import boston_housing_data\n",
    "\n",
    "from sklearn.tree import DecisionTreeRegressor\n",
    "from sklearn.ensemble import BaggingRegressor\n",
    "from sklearn.model_selection import train_test_split\n",
    "from sklearn.metrics import mean_squared_error\n",
    "\n",
    "np.random.seed(16)\n",
    "tf.random.set_seed(16)"
   ]
  },
  {
   "cell_type": "code",
   "execution_count": 15,
   "id": "de0ad282",
   "metadata": {},
   "outputs": [],
   "source": [
    "X, y = boston_housing_data()\n",
    "X_train, X_test, y_train, y_test = train_test_split(X, y,\n",
    "                                                    test_size=0.3,\n",
    "                                                    random_state=123,\n",
    "                                                    shuffle=True)"
   ]
  },
  {
   "cell_type": "markdown",
   "id": "daddea41",
   "metadata": {},
   "source": [
    "## Example 1: Decision tree"
   ]
  },
  {
   "cell_type": "code",
   "execution_count": 22,
   "id": "a285457c",
   "metadata": {},
   "outputs": [
    {
     "name": "stdout",
     "output_type": "stream",
     "text": [
      "Average expected loss: 32.419\n",
      "Average bias: 14.197\n",
      "Average variance: 18.222\n"
     ]
    }
   ],
   "source": [
    "tree = DecisionTreeRegressor(random_state=16)\n",
    "\n",
    "avg_expected_loss, avg_bias, avg_var = bias_variance_decomp(\n",
    "        tree, X_train, y_train, X_test, y_test, \n",
    "        loss='mse',\n",
    "        random_seed=16)\n",
    "\n",
    "print('Average expected loss: %.3f' % avg_expected_loss)\n",
    "print('Average bias: %.3f' % avg_bias)\n",
    "print('Average variance: %.3f' % avg_var)"
   ]
  },
  {
   "cell_type": "code",
   "execution_count": 23,
   "id": "31a710fb",
   "metadata": {},
   "outputs": [
    {
     "name": "stdout",
     "output_type": "stream",
     "text": [
      "Average expected loss: 18.693\n",
      "Average bias: 15.291\n",
      "Average variance: 3.402\n"
     ]
    }
   ],
   "source": [
    "tree = DecisionTreeRegressor(random_state=16)\n",
    "bag = BaggingRegressor(base_estimator=tree,\n",
    "                       n_estimators=100,\n",
    "                       random_state=16)\n",
    "\n",
    "avg_expected_loss, avg_bias, avg_var = bias_variance_decomp(\n",
    "        bag, X_train, y_train, X_test, y_test, \n",
    "        loss='mse',\n",
    "        random_seed=16)\n",
    "\n",
    "print('Average expected loss: %.3f' % avg_expected_loss)\n",
    "print('Average bias: %.3f' % avg_bias)\n",
    "print('Average variance: %.3f' % avg_var)"
   ]
  },
  {
   "cell_type": "markdown",
   "id": "d1d1670d",
   "metadata": {},
   "source": [
    "## Example 2: Neural network"
   ]
  },
  {
   "cell_type": "code",
   "execution_count": 24,
   "id": "5f533dfb",
   "metadata": {},
   "outputs": [
    {
     "data": {
      "text/plain": [
       "<keras.callbacks.History at 0x1e6e29e5fa0>"
      ]
     },
     "execution_count": 24,
     "metadata": {},
     "output_type": "execute_result"
    },
    {
     "data": {
      "text/plain": [
       "25.512323307640344"
      ]
     },
     "execution_count": 24,
     "metadata": {},
     "output_type": "execute_result"
    },
    {
     "name": "stdout",
     "output_type": "stream",
     "text": [
      "Average expected loss: 25.302\n",
      "Average bias: 19.623\n",
      "Average variance: 5.680\n"
     ]
    }
   ],
   "source": [
    "model = Sequential()\n",
    "model.add(Dense(512, activation='relu'))\n",
    "model.add(Dense(128, activation='relu'))\n",
    "model.add(Dense(32, activation='relu'))\n",
    "model.add(Dense(1, activation='linear'))\n",
    "\n",
    "optimizer = tf.keras.optimizers.Adam()\n",
    "model.compile(loss='mean_squared_error', optimizer=optimizer)\n",
    "model.fit(X_train, y_train, epochs=100, batch_size=32, verbose=0)\n",
    "mean_squared_error(model.predict(X_test), y_test)\n",
    "\n",
    "avg_expected_loss, avg_bias, avg_var = bias_variance_decomp(\n",
    "        model, X_train, y_train, X_test, y_test, \n",
    "        loss='mse',\n",
    "        num_rounds=100,\n",
    "        random_seed=16,\n",
    "        epochs=100,\n",
    "        batch_size=32,\n",
    "        verbose=0)\n",
    "\n",
    "print('Average expected loss: %.3f' % avg_expected_loss)\n",
    "print('Average bias: %.3f' % avg_bias)\n",
    "print('Average variance: %.3f' % avg_var)"
   ]
  },
  {
   "cell_type": "code",
   "execution_count": 27,
   "id": "27d9b03e",
   "metadata": {},
   "outputs": [
    {
     "data": {
      "text/plain": [
       "'D:\\\\deep learning'"
      ]
     },
     "execution_count": 27,
     "metadata": {},
     "output_type": "execute_result"
    }
   ],
   "source": [
    "pwd"
   ]
  },
  {
   "cell_type": "code",
   "execution_count": 26,
   "id": "6707a99c",
   "metadata": {},
   "outputs": [
    {
     "data": {
      "text/plain": [
       "<keras.callbacks.History at 0x1e6ecf21f40>"
      ]
     },
     "execution_count": 26,
     "metadata": {},
     "output_type": "execute_result"
    },
    {
     "data": {
      "text/plain": [
       "24.186171805289003"
      ]
     },
     "execution_count": 26,
     "metadata": {},
     "output_type": "execute_result"
    },
    {
     "name": "stdout",
     "output_type": "stream",
     "text": [
      "Average expected loss: 25.508\n",
      "Average bias: 19.426\n",
      "Average variance: 6.081\n"
     ]
    }
   ],
   "source": [
    "model = Sequential()\n",
    "model.add(Dense(800, activation='relu'))\n",
    "model.add(Dense(200, activation='relu'))\n",
    "model.add(Dense(32, activation='relu'))\n",
    "model.add(Dense(1, activation='linear'))\n",
    "\n",
    "optimizer = tf.keras.optimizers.Adam()\n",
    "model.compile(loss='mean_squared_error', optimizer=optimizer)\n",
    "model.fit(X_train, y_train, epochs=100, batch_size=32, verbose=0)\n",
    "mean_squared_error(model.predict(X_test), y_test)\n",
    "\n",
    "avg_expected_loss, avg_bias, avg_var = bias_variance_decomp(\n",
    "        model, X_train, y_train, X_test, y_test, \n",
    "        loss='mse',\n",
    "        num_rounds=100,\n",
    "        random_seed=16,\n",
    "        epochs=100,\n",
    "        batch_size=32,\n",
    "        verbose=0)\n",
    "\n",
    "print('Average expected loss: %.3f' % avg_expected_loss)\n",
    "print('Average bias: %.3f' % avg_bias)\n",
    "print('Average variance: %.3f' % avg_var)"
   ]
  },
  {
   "cell_type": "markdown",
   "id": "16d1f9fd",
   "metadata": {},
   "source": [
    "# End"
   ]
  }
 ],
 "metadata": {
  "kernelspec": {
   "display_name": "Python 3",
   "language": "python",
   "name": "python3"
  },
  "language_info": {
   "codemirror_mode": {
    "name": "ipython",
    "version": 3
   },
   "file_extension": ".py",
   "mimetype": "text/x-python",
   "name": "python",
   "nbconvert_exporter": "python",
   "pygments_lexer": "ipython3",
   "version": "3.8.8"
  }
 },
 "nbformat": 4,
 "nbformat_minor": 5
}
