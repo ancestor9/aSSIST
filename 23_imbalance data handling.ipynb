{
 "cells": [
  {
   "cell_type": "markdown",
   "id": "lucky-travel",
   "metadata": {},
   "source": [
    "# 비대칭 데이터 문제\n",
    "- https://imbalanced-learn.org/stable/over_sampling.html\n",
    "-https://datascienceschool.net/03%20machine%20learning/14.02%20%EB%B9%84%EB%8C%80%EC%B9%AD%20%EB%8D%B0%EC%9D%B4%ED%84%B0%20%EB%AC%B8%EC%A0%9C.html"
   ]
  },
  {
   "cell_type": "code",
   "execution_count": 1,
   "id": "sharing-restriction",
   "metadata": {},
   "outputs": [
    {
     "data": {
      "text/html": [
       "<style>.container { width:100% !important; }</style>"
      ],
      "text/plain": [
       "<IPython.core.display.HTML object>"
      ]
     },
     "metadata": {},
     "output_type": "display_data"
    }
   ],
   "source": [
    "from IPython.core.interactiveshell import InteractiveShell\n",
    "InteractiveShell.ast_node_interactivity = 'all'\n",
    "from IPython.core.display import display, HTML\n",
    "display(HTML(\"<style>.container { width:100% !important; }</style>\"))\n",
    "import warnings\n",
    "warnings.filterwarnings('ignore')\n",
    "\n",
    "import matplotlib.pyplot as plt\n",
    "get_ipython().run_line_magic('matplotlib', 'inline')\n",
    "plt.rcParams['font.family']='Malgun Gothic'\n",
    "plt.rcParams['axes.unicode_minus'] = False\n",
    "import numpy as np\n",
    "import pandas as pd"
   ]
  },
  {
   "cell_type": "code",
   "execution_count": 2,
   "id": "smooth-rider",
   "metadata": {},
   "outputs": [
    {
     "data": {
      "text/plain": [
       "<matplotlib.collections.PathCollection at 0x2439d69efd0>"
      ]
     },
     "execution_count": 2,
     "metadata": {},
     "output_type": "execute_result"
    },
    {
     "data": {
      "image/png": "[encoded data removed]",
      "text/plain": [
       "<Figure size 432x288 with 1 Axes>"
      ]
     },
     "metadata": {
      "needs_background": "light"
     },
     "output_type": "display_data"
    }
   ],
   "source": [
    "from sklearn.datasets import make_classification\n",
    "X, y = make_classification(n_samples=5000, n_features=2, n_informative=2,\n",
    "                           n_redundant=0, n_repeated=0, n_classes=3,\n",
    "                           n_clusters_per_class=1,\n",
    "                           weights=[0.01, 0.05, 0.94],\n",
    "                           class_sep=0.8, random_state=0)\n",
    "plt.scatter(X[:, 0], X[:, 1], c=y, s=20, cmap='rainbow')"
   ]
  },
  {
   "cell_type": "markdown",
   "id": "informative-profile",
   "metadata": {},
   "source": [
    "## SMOTE\n",
    "- 가우시안 나이브 등과 같은 알고리즘은 Class weight 파라미터가 없음"
   ]
  },
  {
   "cell_type": "code",
   "execution_count": 3,
   "id": "supreme-sampling",
   "metadata": {},
   "outputs": [
    {
     "name": "stdout",
     "output_type": "stream",
     "text": [
      "normal data distribution: Counter({2: 4674, 1: 262, 0: 64})\n",
      "SMOTE data distribution: Counter({2: 4674, 1: 4674, 0: 4674})\n"
     ]
    }
   ],
   "source": [
    "from imblearn.over_sampling import SMOTE\n",
    "from collections import Counter\n",
    "print(f'normal data distribution: {Counter(y)}')\n",
    "X_smote, y_smote = SMOTE().fit_resample(X,y)\n",
    "print(f'SMOTE data distribution: {Counter(y_smote)}')"
   ]
  },
  {
   "cell_type": "markdown",
   "id": "curious-yugoslavia",
   "metadata": {},
   "source": [
    "## 원래 데이터로 예측"
   ]
  },
  {
   "cell_type": "code",
   "execution_count": 4,
   "id": "attempted-cloud",
   "metadata": {},
   "outputs": [
    {
     "data": {
      "text/plain": [
       "{'fit_time': array([0.1172328 , 0.09041357, 0.07172179]),\n",
       " 'score_time': array([0.00421548, 0.00418854, 0.00299001]),\n",
       " 'test_score': array([0.69340238, 0.56378601, 0.59348149])}"
      ]
     },
     "execution_count": 4,
     "metadata": {},
     "output_type": "execute_result"
    },
    {
     "data": {
      "text/plain": [
       "array([0.69340238, 0.56378601, 0.59348149])"
      ]
     },
     "execution_count": 4,
     "metadata": {},
     "output_type": "execute_result"
    }
   ],
   "source": [
    "from sklearn import model_selection, metrics\n",
    "from imblearn.pipeline import make_pipeline\n",
    "from sklearn.svm import LinearSVC\n",
    "clf = LinearSVC()\n",
    "kf = model_selection.KFold(n_splits=3, shuffle=True, random_state=11)\n",
    "model_selection.cross_validate(clf, X, y, scoring='recall_macro', cv=kf)\n",
    "model_selection.cross_val_score(clf, X, y, scoring='recall_macro', cv=kf)"
   ]
  },
  {
   "cell_type": "markdown",
   "id": "bibliographic-commission",
   "metadata": {},
   "source": [
    "## Data over-under-combine"
   ]
  },
  {
   "cell_type": "code",
   "execution_count": 5,
   "id": "protected-south",
   "metadata": {},
   "outputs": [
    {
     "data": {
      "text/plain": [
       "array([0.8378122 , 0.82726718, 0.82383264])"
      ]
     },
     "execution_count": 5,
     "metadata": {},
     "output_type": "execute_result"
    },
    {
     "data": {
      "text/plain": [
       "array([0.53418115, 0.5825033 , 0.71177491])"
      ]
     },
     "execution_count": 5,
     "metadata": {},
     "output_type": "execute_result"
    },
    {
     "data": {
      "text/plain": [
       "array([0.84221685, 0.83272696, 0.82319038])"
      ]
     },
     "execution_count": 5,
     "metadata": {},
     "output_type": "execute_result"
    }
   ],
   "source": [
    "from imblearn.over_sampling import *\n",
    "oversamplers = [RandomOverSampler(random_state=0), ADASYN(random_state=0),\n",
    "                SMOTE(random_state=42)]\n",
    "for sampler in oversamplers :\n",
    "    imba_pipeline= make_pipeline(sampler, clf)\n",
    "    model_selection.cross_val_score(imba_pipeline, X, y, scoring='recall_macro', cv=kf)"
   ]
  },
  {
   "cell_type": "code",
   "execution_count": 6,
   "id": "eastern-ethics",
   "metadata": {},
   "outputs": [
    {
     "data": {
      "text/plain": [
       "array([0.82447722, 0.86502517, 0.87378737])"
      ]
     },
     "execution_count": 6,
     "metadata": {},
     "output_type": "execute_result"
    },
    {
     "data": {
      "text/plain": [
       "array([0.8946434 , 0.91022688, 0.88909526])"
      ]
     },
     "execution_count": 6,
     "metadata": {},
     "output_type": "execute_result"
    }
   ],
   "source": [
    "borderline_smote = [BorderlineSMOTE(random_state=13), SVMSMOTE(random_state=11)]\n",
    "for sampler in borderline_smote :\n",
    "    imba_pipeline= make_pipeline(sampler, clf)\n",
    "    model_selection.cross_val_score(imba_pipeline, X, y, scoring='recall_macro', cv=kf)"
   ]
  },
  {
   "cell_type": "code",
   "execution_count": 7,
   "id": "extra-finnish",
   "metadata": {},
   "outputs": [
    {
     "data": {
      "text/plain": [
       "array([0.83845611, 0.81662653, 0.81612551])"
      ]
     },
     "execution_count": 7,
     "metadata": {},
     "output_type": "execute_result"
    },
    {
     "data": {
      "text/plain": [
       "array([0.71716125, 0.57201646, 0.61246442])"
      ]
     },
     "execution_count": 7,
     "metadata": {},
     "output_type": "execute_result"
    },
    {
     "data": {
      "text/plain": [
       "array([0.71716125, 0.78432473, 0.66941322])"
      ]
     },
     "execution_count": 7,
     "metadata": {},
     "output_type": "execute_result"
    }
   ],
   "source": [
    "from imblearn.under_sampling import *\n",
    "undersamplers = [RandomUnderSampler(), TomekLinks(), OneSidedSelection()]\n",
    "for sampler in undersamplers :\n",
    "    imba_pipeline= make_pipeline(sampler, clf)\n",
    "    model_selection.cross_val_score(imba_pipeline, X, y, scoring='recall_macro', cv=kf)"
   ]
  },
  {
   "cell_type": "code",
   "execution_count": 8,
   "id": "cathedral-block",
   "metadata": {},
   "outputs": [
    {
     "data": {
      "text/plain": [
       "array([0.86445475, 0.86012321, 0.83558527])"
      ]
     },
     "execution_count": 8,
     "metadata": {},
     "output_type": "execute_result"
    },
    {
     "data": {
      "text/plain": [
       "array([0.84414859, 0.83571076, 0.82468899])"
      ]
     },
     "execution_count": 8,
     "metadata": {},
     "output_type": "execute_result"
    }
   ],
   "source": [
    "from imblearn.combine import *\n",
    "combinesamplers = [SMOTEENN(random_state=0), SMOTETomek(random_state=4)]\n",
    "for sampler in combinesamplers :\n",
    "    imba_pipeline= make_pipeline(sampler, clf)\n",
    "    model_selection.cross_val_score(imba_pipeline, X, y, scoring='recall_macro', cv=kf)"
   ]
  },
  {
   "cell_type": "markdown",
   "id": "terminal-diving",
   "metadata": {},
   "source": [
    "# Ensemble of samplers\n",
    "## Classifier including inner balancing samplers\n",
    "https://imbalanced-learn.org/stable/ensemble.html\n",
    "###  Bagging classifier"
   ]
  },
  {
   "cell_type": "code",
   "execution_count": 9,
   "id": "trying-banks",
   "metadata": {},
   "outputs": [
    {
     "data": {
      "text/plain": [
       "array([0.86744119, 0.88333391, 0.85821205])"
      ]
     },
     "execution_count": 9,
     "metadata": {},
     "output_type": "execute_result"
    },
    {
     "data": {
      "text/plain": [
       "array([0.88380873, 0.88856932, 0.85341355])"
      ]
     },
     "execution_count": 9,
     "metadata": {},
     "output_type": "execute_result"
    },
    {
     "data": {
      "text/plain": [
       "array([0.70236924, 0.50233915, 0.5361327 ])"
      ]
     },
     "execution_count": 9,
     "metadata": {},
     "output_type": "execute_result"
    }
   ],
   "source": [
    "from sklearn.ensemble import BaggingClassifier\n",
    "from sklearn.tree import DecisionTreeClassifier\n",
    "from imblearn.ensemble import BalancedRandomForestClassifier\n",
    "from imblearn.ensemble import RUSBoostClassifier\n",
    "\n",
    "bag = BaggingClassifier(base_estimator=DecisionTreeClassifier(), random_state=0) \n",
    "brf = BalancedRandomForestClassifier(n_estimators=100, random_state=0)\n",
    "rusboost = RUSBoostClassifier(n_estimators=200, algorithm='SAMME.R',\n",
    "                              random_state=0)\n",
    "\n",
    "for classifier in [bag, brf, rusboost] :\n",
    "    model_selection.cross_val_score(classifier, X, y, scoring='recall_macro', cv=kf)"
   ]
  },
  {
   "cell_type": "markdown",
   "id": "incorporate-makeup",
   "metadata": {},
   "source": [
    "# 데이터 제거"
   ]
  },
  {
   "cell_type": "code",
   "execution_count": 10,
   "id": "willing-found",
   "metadata": {},
   "outputs": [
    {
     "data": {
      "text/html": [
       "<div><div id=d47aaa8f-a620-4d02-952b-fd759277c36a style=\"display:none; background-color:#9D6CFF; color:white; width:200px; height:30px; padding-left:5px; border-radius:4px; flex-direction:row; justify-content:space-around; align-items:center;\" onmouseover=\"this.style.backgroundColor='#BA9BF8'\" onmouseout=\"this.style.backgroundColor='#9D6CFF'\" onclick=\"window.commands?.execute('create-mitosheet-from-dataframe-output');\">See Full Dataframe in Mito</div> <script> if (window.commands.hasCommand('create-mitosheet-from-dataframe-output')) document.getElementById('d47aaa8f-a620-4d02-952b-fd759277c36a').style.display = 'flex' </script> <table border=\"1\" class=\"dataframe\">\n",
       "  <thead>\n",
       "    <tr style=\"text-align: right;\">\n",
       "      <th></th>\n",
       "      <th>Time</th>\n",
       "      <th>V1</th>\n",
       "      <th>V2</th>\n",
       "      <th>V3</th>\n",
       "      <th>V4</th>\n",
       "      <th>V5</th>\n",
       "      <th>V6</th>\n",
       "      <th>V7</th>\n",
       "      <th>V8</th>\n",
       "      <th>V9</th>\n",
       "      <th>...</th>\n",
       "      <th>V22</th>\n",
       "      <th>V23</th>\n",
       "      <th>V24</th>\n",
       "      <th>V25</th>\n",
       "      <th>V26</th>\n",
       "      <th>V27</th>\n",
       "      <th>V28</th>\n",
       "      <th>Amount</th>\n",
       "      <th>target</th>\n",
       "      <th>log_Amount</th>\n",
       "    </tr>\n",
       "  </thead>\n",
       "  <tbody>\n",
       "    <tr>\n",
       "      <th>206709</th>\n",
       "      <td>136330.0</td>\n",
       "      <td>2.108286</td>\n",
       "      <td>-0.020359</td>\n",
       "      <td>-2.234273</td>\n",
       "      <td>-0.124080</td>\n",
       "      <td>0.559843</td>\n",
       "      <td>-1.315913</td>\n",
       "      <td>0.631887</td>\n",
       "      <td>-0.385490</td>\n",
       "      <td>0.150628</td>\n",
       "      <td>...</td>\n",
       "      <td>0.519705</td>\n",
       "      <td>-0.091751</td>\n",
       "      <td>-0.379542</td>\n",
       "      <td>0.418822</td>\n",
       "      <td>0.248646</td>\n",
       "      <td>-0.098857</td>\n",
       "      <td>-0.094773</td>\n",
       "      <td>7.70</td>\n",
       "      <td>0.0</td>\n",
       "      <td>2.163323</td>\n",
       "    </tr>\n",
       "    <tr>\n",
       "      <th>164567</th>\n",
       "      <td>116819.0</td>\n",
       "      <td>2.080143</td>\n",
       "      <td>-0.075408</td>\n",
       "      <td>-1.359381</td>\n",
       "      <td>0.261263</td>\n",
       "      <td>0.232201</td>\n",
       "      <td>-0.797886</td>\n",
       "      <td>0.233487</td>\n",
       "      <td>-0.330165</td>\n",
       "      <td>0.493154</td>\n",
       "      <td>...</td>\n",
       "      <td>-0.784150</td>\n",
       "      <td>0.233078</td>\n",
       "      <td>-0.636937</td>\n",
       "      <td>-0.191137</td>\n",
       "      <td>0.234986</td>\n",
       "      <td>-0.070648</td>\n",
       "      <td>-0.062794</td>\n",
       "      <td>17.99</td>\n",
       "      <td>0.0</td>\n",
       "      <td>2.943913</td>\n",
       "    </tr>\n",
       "    <tr>\n",
       "      <th>16546</th>\n",
       "      <td>27917.0</td>\n",
       "      <td>1.152650</td>\n",
       "      <td>0.204938</td>\n",
       "      <td>0.441832</td>\n",
       "      <td>1.211595</td>\n",
       "      <td>-0.254895</td>\n",
       "      <td>-0.383380</td>\n",
       "      <td>-0.004286</td>\n",
       "      <td>-0.019590</td>\n",
       "      <td>0.085094</td>\n",
       "      <td>...</td>\n",
       "      <td>0.209828</td>\n",
       "      <td>-0.054351</td>\n",
       "      <td>0.058103</td>\n",
       "      <td>0.515330</td>\n",
       "      <td>-0.299402</td>\n",
       "      <td>0.032551</td>\n",
       "      <td>0.022865</td>\n",
       "      <td>21.00</td>\n",
       "      <td>0.0</td>\n",
       "      <td>3.091042</td>\n",
       "    </tr>\n",
       "    <tr>\n",
       "      <th>152705</th>\n",
       "      <td>97443.0</td>\n",
       "      <td>-0.389692</td>\n",
       "      <td>0.410148</td>\n",
       "      <td>0.616187</td>\n",
       "      <td>-0.686644</td>\n",
       "      <td>1.040312</td>\n",
       "      <td>-0.322199</td>\n",
       "      <td>0.523625</td>\n",
       "      <td>-0.037453</td>\n",
       "      <td>1.319237</td>\n",
       "      <td>...</td>\n",
       "      <td>0.685267</td>\n",
       "      <td>-0.182303</td>\n",
       "      <td>0.767857</td>\n",
       "      <td>-0.242738</td>\n",
       "      <td>0.009678</td>\n",
       "      <td>0.115370</td>\n",
       "      <td>0.176041</td>\n",
       "      <td>6.60</td>\n",
       "      <td>0.0</td>\n",
       "      <td>2.028148</td>\n",
       "    </tr>\n",
       "    <tr>\n",
       "      <th>10646</th>\n",
       "      <td>17920.0</td>\n",
       "      <td>-1.306986</td>\n",
       "      <td>0.183306</td>\n",
       "      <td>3.164803</td>\n",
       "      <td>0.810135</td>\n",
       "      <td>1.529576</td>\n",
       "      <td>2.388322</td>\n",
       "      <td>0.551279</td>\n",
       "      <td>-0.054401</td>\n",
       "      <td>1.675481</td>\n",
       "      <td>...</td>\n",
       "      <td>0.556523</td>\n",
       "      <td>0.146513</td>\n",
       "      <td>-1.128693</td>\n",
       "      <td>-0.633623</td>\n",
       "      <td>-0.454903</td>\n",
       "      <td>-0.826329</td>\n",
       "      <td>-0.826186</td>\n",
       "      <td>4.95</td>\n",
       "      <td>0.0</td>\n",
       "      <td>1.783391</td>\n",
       "    </tr>\n",
       "  </tbody>\n",
       "</table></div>"
      ],
      "text/plain": [
       "            Time        V1        V2        V3        V4        V5        V6  \\\n",
       "206709  136330.0  2.108286 -0.020359 -2.234273 -0.124080  0.559843 -1.315913   \n",
       "164567  116819.0  2.080143 -0.075408 -1.359381  0.261263  0.232201 -0.797886   \n",
       "16546    27917.0  1.152650  0.204938  0.441832  1.211595 -0.254895 -0.383380   \n",
       "152705   97443.0 -0.389692  0.410148  0.616187 -0.686644  1.040312 -0.322199   \n",
       "10646    17920.0 -1.306986  0.183306  3.164803  0.810135  1.529576  2.388322   \n",
       "\n",
       "              V7        V8        V9  ...       V22       V23       V24  \\\n",
       "206709  0.631887 -0.385490  0.150628  ...  0.519705 -0.091751 -0.379542   \n",
       "164567  0.233487 -0.330165  0.493154  ... -0.784150  0.233078 -0.636937   \n",
       "16546  -0.004286 -0.019590  0.085094  ...  0.209828 -0.054351  0.058103   \n",
       "152705  0.523625 -0.037453  1.319237  ...  0.685267 -0.182303  0.767857   \n",
       "10646   0.551279 -0.054401  1.675481  ...  0.556523  0.146513 -1.128693   \n",
       "\n",
       "             V25       V26       V27       V28  Amount  target  log_Amount  \n",
       "206709  0.418822  0.248646 -0.098857 -0.094773    7.70     0.0    2.163323  \n",
       "164567 -0.191137  0.234986 -0.070648 -0.062794   17.99     0.0    2.943913  \n",
       "16546   0.515330 -0.299402  0.032551  0.022865   21.00     0.0    3.091042  \n",
       "152705 -0.242738  0.009678  0.115370  0.176041    6.60     0.0    2.028148  \n",
       "10646  -0.633623 -0.454903 -0.826329 -0.826186    4.95     0.0    1.783391  \n",
       "\n",
       "[5 rows x 32 columns]"
      ]
     },
     "execution_count": 10,
     "metadata": {},
     "output_type": "execute_result"
    },
    {
     "data": {
      "text/plain": [
       "(28481, 32)"
      ]
     },
     "execution_count": 10,
     "metadata": {},
     "output_type": "execute_result"
    },
    {
     "data": {
      "text/plain": [
       "0.0    0.998139\n",
       "1.0    0.001861\n",
       "Name: target, dtype: float64"
      ]
     },
     "execution_count": 10,
     "metadata": {},
     "output_type": "execute_result"
    }
   ],
   "source": [
    "from sklearn.datasets import fetch_openml\n",
    "data = fetch_openml(name='CreditCardFraudDetection')\n",
    "df = pd.DataFrame(data.data, columns=data.feature_names)\n",
    "df['target'] = data.target\n",
    "df['log_Amount'] = np.log(1+df['Amount'])\n",
    "data = df.sample(frac=0.1, random_state=135).copy()\n",
    "data.head()\n",
    "data.shape\n",
    "data.target.value_counts(normalize=True)"
   ]
  },
  {
   "cell_type": "code",
   "execution_count": 11,
   "id": "italian-masters",
   "metadata": {},
   "outputs": [],
   "source": [
    "X= data[['log_Amount','V1', 'V3', 'V5']]\n",
    "y= data['target']\n",
    "kf = model_selection.KFold(n_splits=5, shuffle=True, random_state=11)\n",
    "recall_score = []\n",
    "for seed in np.random.choice(100, 10):\n",
    "    np.random.seed(seed)\n",
    "    recall_score.append(model_selection.cross_val_score(clf, X, y,  #\n",
    "                                                        scoring='recall', cv=kf).mean())"
   ]
  },
  {
   "cell_type": "code",
   "execution_count": 12,
   "id": "literary-landscape",
   "metadata": {},
   "outputs": [
    {
     "data": {
      "text/plain": [
       "<Figure size 864x216 with 0 Axes>"
      ]
     },
     "execution_count": 12,
     "metadata": {},
     "output_type": "execute_result"
    },
    {
     "data": {
      "text/plain": [
       "<BarContainer object of 10 artists>"
      ]
     },
     "execution_count": 12,
     "metadata": {},
     "output_type": "execute_result"
    },
    {
     "name": "stdout",
     "output_type": "stream",
     "text": [
      "10회(5회 교차검증) 평균재현율:0.08752136752136751\n"
     ]
    },
    {
     "data": {
      "text/plain": [
       "[<matplotlib.lines.Line2D at 0x2439fec5280>]"
      ]
     },
     "execution_count": 12,
     "metadata": {},
     "output_type": "execute_result"
    },
    {
     "data": {
      "text/plain": [
       "<matplotlib.legend.Legend at 0x2439fe2dbb0>"
      ]
     },
     "execution_count": 12,
     "metadata": {},
     "output_type": "execute_result"
    },
    {
     "data": {
      "image/png": "[encoded data removed]",
      "text/plain": [
       "<Figure size 864x216 with 1 Axes>"
      ]
     },
     "metadata": {
      "needs_background": "light"
     },
     "output_type": "display_data"
    }
   ],
   "source": [
    "plt.rcParams['font.family']='Malgun Gothic'\n",
    "plt.figure(figsize=(12,3))\n",
    "plt.bar(np.arange(10), recall_score)\n",
    "mean = np.mean(recall_score)\n",
    "print(f'10회(5회 교차검증) 평균재현율:{mean}')\n",
    "plt.plot([0, 10], [mean, mean], 'r--', label='평균 재현율(recall)'); plt.legend()"
   ]
  },
  {
   "cell_type": "code",
   "execution_count": 13,
   "id": "affecting-gospel",
   "metadata": {},
   "outputs": [
    {
     "data": {
      "text/plain": [
       "<AxesSubplot:xlabel='target', ylabel='log_Amount'>"
      ]
     },
     "execution_count": 13,
     "metadata": {},
     "output_type": "execute_result"
    },
    {
     "data": {
      "image/png": "[encoded data removed]",
      "text/plain": [
       "<Figure size 432x288 with 1 Axes>"
      ]
     },
     "metadata": {
      "needs_background": "light"
     },
     "output_type": "display_data"
    }
   ],
   "source": [
    "import seaborn as sns\n",
    "sns.boxplot(x= 'target', y= 'log_Amount', data= data)"
   ]
  },
  {
   "cell_type": "code",
   "execution_count": 14,
   "id": "associate-mexican",
   "metadata": {},
   "outputs": [
    {
     "data": {
      "text/plain": [
       "0.0    521\n",
       "Name: target, dtype: int64"
      ]
     },
     "execution_count": 14,
     "metadata": {},
     "output_type": "execute_result"
    },
    {
     "name": "stdout",
     "output_type": "stream",
     "text": [
      "log_Amount 변수값이 6.585이상이면 항상 적합\n"
     ]
    },
    {
     "data": {
      "text/plain": [
       "(27960, 32)"
      ]
     },
     "execution_count": 14,
     "metadata": {},
     "output_type": "execute_result"
    }
   ],
   "source": [
    "max = data[data['target'] == 1]['log_Amount'].max()\n",
    "data.loc[data['log_Amount'] > max]['target'].value_counts()\n",
    "print(f'log_Amount 변수값이 {max:.3f}이상이면 항상 적합')\n",
    "data = data.loc[data['log_Amount'] <= max]\n",
    "data.shape"
   ]
  },
  {
   "cell_type": "code",
   "execution_count": 15,
   "id": "stretch-state",
   "metadata": {},
   "outputs": [
    {
     "data": {
      "text/plain": [
       "0.0    0.998104\n",
       "1.0    0.001896\n",
       "Name: target, dtype: float64"
      ]
     },
     "execution_count": 15,
     "metadata": {},
     "output_type": "execute_result"
    }
   ],
   "source": [
    "data.target.value_counts(normalize=True)"
   ]
  },
  {
   "cell_type": "code",
   "execution_count": 16,
   "id": "transsexual-brook",
   "metadata": {},
   "outputs": [
    {
     "data": {
      "text/plain": [
       "0.0    0.998104\n",
       "1.0    0.001896\n",
       "Name: target, dtype: float64"
      ]
     },
     "execution_count": 16,
     "metadata": {},
     "output_type": "execute_result"
    }
   ],
   "source": [
    "data.target.value_counts(normalize=True)\n",
    "X= data[['log_Amount','V1', 'V3', 'V5']]\n",
    "y= data['target']\n",
    "recall_score = []\n",
    "for seed in np.random.choice(100, 10):\n",
    "    np.random.seed(seed)\n",
    "    recall_score.append(model_selection.cross_val_score(clf, X, y,  #\n",
    "                                                        scoring='recall', cv=kf).mean())"
   ]
  },
  {
   "cell_type": "code",
   "execution_count": 17,
   "id": "existing-deficit",
   "metadata": {
    "scrolled": false
   },
   "outputs": [
    {
     "data": {
      "text/plain": [
       "<Figure size 864x216 with 0 Axes>"
      ]
     },
     "execution_count": 17,
     "metadata": {},
     "output_type": "execute_result"
    },
    {
     "data": {
      "text/plain": [
       "<BarContainer object of 10 artists>"
      ]
     },
     "execution_count": 17,
     "metadata": {},
     "output_type": "execute_result"
    },
    {
     "data": {
      "text/plain": [
       "[<matplotlib.lines.Line2D at 0x243a0985880>]"
      ]
     },
     "execution_count": 17,
     "metadata": {},
     "output_type": "execute_result"
    },
    {
     "data": {
      "text/plain": [
       "<matplotlib.legend.Legend at 0x2439ff90ac0>"
      ]
     },
     "execution_count": 17,
     "metadata": {},
     "output_type": "execute_result"
    },
    {
     "data": {
      "image/png": "[encoded data removed]",
      "text/plain": [
       "<Figure size 864x216 with 1 Axes>"
      ]
     },
     "metadata": {
      "needs_background": "light"
     },
     "output_type": "display_data"
    }
   ],
   "source": [
    "plt.figure(figsize=(12,3))\n",
    "plt.bar(np.arange(10), recall_score)\n",
    "mean = np.mean(recall_score)\n",
    "plt.plot([0, 10], [mean, mean], 'r--', label='평균 재현율(recall)')\n",
    "plt.legend()"
   ]
  },
  {
   "cell_type": "markdown",
   "id": "7b50167f",
   "metadata": {},
   "source": [
    "# End"
   ]
  }
 ],
 "metadata": {
  "kernelspec": {
   "display_name": "Python 3 (ipykernel)",
   "language": "python",
   "name": "python3"
  },
  "language_info": {
   "codemirror_mode": {
    "name": "ipython",
    "version": 3
   },
   "file_extension": ".py",
   "mimetype": "text/x-python",
   "name": "python",
   "nbconvert_exporter": "python",
   "pygments_lexer": "ipython3",
   "version": "3.8.8"
  }
 },
 "nbformat": 4,
 "nbformat_minor": 5
}
