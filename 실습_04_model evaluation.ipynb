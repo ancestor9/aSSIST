{
 "cells": [
  {
   "cell_type": "markdown",
   "id": "ed2c8029",
   "metadata": {},
   "source": [
    "# Model Evaluation"
   ]
  },
  {
   "cell_type": "markdown",
   "id": "wireless-target",
   "metadata": {},
   "source": [
    "## 어떤 모델이 좋은 모델인가?"
   ]
  },
  {
   "cell_type": "code",
   "execution_count": 1,
   "id": "closing-eleven",
   "metadata": {},
   "outputs": [
    {
     "data": {
      "text/html": [
       "<style>.container { width:100% !important; }</style>"
      ],
      "text/plain": [
       "<IPython.core.display.HTML object>"
      ]
     },
     "metadata": {},
     "output_type": "display_data"
    }
   ],
   "source": [
    "from IPython.core.display import display, HTML\n",
    "display(HTML(\"<style>.container { width:100% !important; }</style>\"))\n",
    "from IPython.core.interactiveshell import InteractiveShell\n",
    "InteractiveShell.ast_node_interactivity = 'all'\n",
    "import warnings\n",
    "warnings.filterwarnings(action='ignore') "
   ]
  },
  {
   "cell_type": "code",
   "execution_count": 2,
   "id": "45c61aea",
   "metadata": {},
   "outputs": [],
   "source": [
    "import seaborn as sns\n",
    "import matplotlib.pyplot as plt\n",
    "get_ipython().run_line_magic('matplotlib', 'inline')\n",
    "import pandas as pd\n",
    "import numpy as np"
   ]
  },
  {
   "cell_type": "markdown",
   "id": "d74f4a88",
   "metadata": {},
   "source": [
    "## Confusion matrix with recall & precision"
   ]
  },
  {
   "cell_type": "code",
   "execution_count": 7,
   "id": "98909d3f",
   "metadata": {},
   "outputs": [],
   "source": [
    "y_true = ['pos', 'pos','pos','pos','pos','pos','pos','pos','pos','pos','pos','pos',\n",
    "         'neg', 'neg','neg','neg','neg','neg','neg','neg','neg','neg']\n",
    "y_pred = ['pos', 'pos','pos','pos','pos','neg','neg','neg','neg','neg','neg','neg',\n",
    "         'neg', 'neg','neg','neg','neg','neg','neg','pos','pos','pos']"
   ]
  },
  {
   "cell_type": "markdown",
   "id": "f522d0d7",
   "metadata": {},
   "source": [
    "# Import the dataset Wisconsin breast cancer dataset from skelarn."
   ]
  },
  {
   "cell_type": "code",
   "execution_count": 11,
   "id": "sharing-pattern",
   "metadata": {},
   "outputs": [
    {
     "data": {
      "text/plain": [
       "(569, 31)"
      ]
     },
     "execution_count": 11,
     "metadata": {},
     "output_type": "execute_result"
    },
    {
     "data": {
      "text/html": [
       "<div><div id=be75f746-a0b4-44d1-b0c2-6a129b01cc20 style=\"display:none; background-color:#9D6CFF; color:white; width:200px; height:30px; padding-left:5px; border-radius:4px; flex-direction:row; justify-content:space-around; align-items:center;\" onmouseover=\"this.style.backgroundColor='#BA9BF8'\" onmouseout=\"this.style.backgroundColor='#9D6CFF'\" onclick=\"window.commands?.execute('create-mitosheet-from-dataframe-output');\">See Full Dataframe in Mito</div> <script> if (window.commands.hasCommand('create-mitosheet-from-dataframe-output')) document.getElementById('be75f746-a0b4-44d1-b0c2-6a129b01cc20').style.display = 'flex' </script> <table border=\"1\" class=\"dataframe\">\n",
       "  <thead>\n",
       "    <tr style=\"text-align: right;\">\n",
       "      <th></th>\n",
       "      <th>target</th>\n",
       "      <th>mean radius</th>\n",
       "      <th>mean texture</th>\n",
       "      <th>mean perimeter</th>\n",
       "      <th>mean area</th>\n",
       "      <th>mean smoothness</th>\n",
       "      <th>mean compactness</th>\n",
       "      <th>mean concavity</th>\n",
       "      <th>mean concave points</th>\n",
       "      <th>mean symmetry</th>\n",
       "      <th>...</th>\n",
       "      <th>worst radius</th>\n",
       "      <th>worst texture</th>\n",
       "      <th>worst perimeter</th>\n",
       "      <th>worst area</th>\n",
       "      <th>worst smoothness</th>\n",
       "      <th>worst compactness</th>\n",
       "      <th>worst concavity</th>\n",
       "      <th>worst concave points</th>\n",
       "      <th>worst symmetry</th>\n",
       "      <th>worst fractal dimension</th>\n",
       "    </tr>\n",
       "  </thead>\n",
       "  <tbody>\n",
       "    <tr>\n",
       "      <th>0</th>\n",
       "      <td>1</td>\n",
       "      <td>17.99</td>\n",
       "      <td>10.38</td>\n",
       "      <td>122.80</td>\n",
       "      <td>1001.0</td>\n",
       "      <td>0.11840</td>\n",
       "      <td>0.27760</td>\n",
       "      <td>0.3001</td>\n",
       "      <td>0.14710</td>\n",
       "      <td>0.2419</td>\n",
       "      <td>...</td>\n",
       "      <td>25.38</td>\n",
       "      <td>17.33</td>\n",
       "      <td>184.60</td>\n",
       "      <td>2019.0</td>\n",
       "      <td>0.1622</td>\n",
       "      <td>0.6656</td>\n",
       "      <td>0.7119</td>\n",
       "      <td>0.2654</td>\n",
       "      <td>0.4601</td>\n",
       "      <td>0.11890</td>\n",
       "    </tr>\n",
       "    <tr>\n",
       "      <th>1</th>\n",
       "      <td>1</td>\n",
       "      <td>20.57</td>\n",
       "      <td>17.77</td>\n",
       "      <td>132.90</td>\n",
       "      <td>1326.0</td>\n",
       "      <td>0.08474</td>\n",
       "      <td>0.07864</td>\n",
       "      <td>0.0869</td>\n",
       "      <td>0.07017</td>\n",
       "      <td>0.1812</td>\n",
       "      <td>...</td>\n",
       "      <td>24.99</td>\n",
       "      <td>23.41</td>\n",
       "      <td>158.80</td>\n",
       "      <td>1956.0</td>\n",
       "      <td>0.1238</td>\n",
       "      <td>0.1866</td>\n",
       "      <td>0.2416</td>\n",
       "      <td>0.1860</td>\n",
       "      <td>0.2750</td>\n",
       "      <td>0.08902</td>\n",
       "    </tr>\n",
       "    <tr>\n",
       "      <th>2</th>\n",
       "      <td>1</td>\n",
       "      <td>19.69</td>\n",
       "      <td>21.25</td>\n",
       "      <td>130.00</td>\n",
       "      <td>1203.0</td>\n",
       "      <td>0.10960</td>\n",
       "      <td>0.15990</td>\n",
       "      <td>0.1974</td>\n",
       "      <td>0.12790</td>\n",
       "      <td>0.2069</td>\n",
       "      <td>...</td>\n",
       "      <td>23.57</td>\n",
       "      <td>25.53</td>\n",
       "      <td>152.50</td>\n",
       "      <td>1709.0</td>\n",
       "      <td>0.1444</td>\n",
       "      <td>0.4245</td>\n",
       "      <td>0.4504</td>\n",
       "      <td>0.2430</td>\n",
       "      <td>0.3613</td>\n",
       "      <td>0.08758</td>\n",
       "    </tr>\n",
       "    <tr>\n",
       "      <th>3</th>\n",
       "      <td>1</td>\n",
       "      <td>11.42</td>\n",
       "      <td>20.38</td>\n",
       "      <td>77.58</td>\n",
       "      <td>386.1</td>\n",
       "      <td>0.14250</td>\n",
       "      <td>0.28390</td>\n",
       "      <td>0.2414</td>\n",
       "      <td>0.10520</td>\n",
       "      <td>0.2597</td>\n",
       "      <td>...</td>\n",
       "      <td>14.91</td>\n",
       "      <td>26.50</td>\n",
       "      <td>98.87</td>\n",
       "      <td>567.7</td>\n",
       "      <td>0.2098</td>\n",
       "      <td>0.8663</td>\n",
       "      <td>0.6869</td>\n",
       "      <td>0.2575</td>\n",
       "      <td>0.6638</td>\n",
       "      <td>0.17300</td>\n",
       "    </tr>\n",
       "    <tr>\n",
       "      <th>4</th>\n",
       "      <td>1</td>\n",
       "      <td>20.29</td>\n",
       "      <td>14.34</td>\n",
       "      <td>135.10</td>\n",
       "      <td>1297.0</td>\n",
       "      <td>0.10030</td>\n",
       "      <td>0.13280</td>\n",
       "      <td>0.1980</td>\n",
       "      <td>0.10430</td>\n",
       "      <td>0.1809</td>\n",
       "      <td>...</td>\n",
       "      <td>22.54</td>\n",
       "      <td>16.67</td>\n",
       "      <td>152.20</td>\n",
       "      <td>1575.0</td>\n",
       "      <td>0.1374</td>\n",
       "      <td>0.2050</td>\n",
       "      <td>0.4000</td>\n",
       "      <td>0.1625</td>\n",
       "      <td>0.2364</td>\n",
       "      <td>0.07678</td>\n",
       "    </tr>\n",
       "  </tbody>\n",
       "</table></div>"
      ],
      "text/plain": [
       "   target  mean radius  mean texture  mean perimeter  mean area  \\\n",
       "0       1        17.99         10.38          122.80     1001.0   \n",
       "1       1        20.57         17.77          132.90     1326.0   \n",
       "2       1        19.69         21.25          130.00     1203.0   \n",
       "3       1        11.42         20.38           77.58      386.1   \n",
       "4       1        20.29         14.34          135.10     1297.0   \n",
       "\n",
       "   mean smoothness  mean compactness  mean concavity  mean concave points  \\\n",
       "0          0.11840           0.27760          0.3001              0.14710   \n",
       "1          0.08474           0.07864          0.0869              0.07017   \n",
       "2          0.10960           0.15990          0.1974              0.12790   \n",
       "3          0.14250           0.28390          0.2414              0.10520   \n",
       "4          0.10030           0.13280          0.1980              0.10430   \n",
       "\n",
       "   mean symmetry  ...  worst radius  worst texture  worst perimeter  \\\n",
       "0         0.2419  ...         25.38          17.33           184.60   \n",
       "1         0.1812  ...         24.99          23.41           158.80   \n",
       "2         0.2069  ...         23.57          25.53           152.50   \n",
       "3         0.2597  ...         14.91          26.50            98.87   \n",
       "4         0.1809  ...         22.54          16.67           152.20   \n",
       "\n",
       "   worst area  worst smoothness  worst compactness  worst concavity  \\\n",
       "0      2019.0            0.1622             0.6656           0.7119   \n",
       "1      1956.0            0.1238             0.1866           0.2416   \n",
       "2      1709.0            0.1444             0.4245           0.4504   \n",
       "3       567.7            0.2098             0.8663           0.6869   \n",
       "4      1575.0            0.1374             0.2050           0.4000   \n",
       "\n",
       "   worst concave points  worst symmetry  worst fractal dimension  \n",
       "0                0.2654          0.4601                  0.11890  \n",
       "1                0.1860          0.2750                  0.08902  \n",
       "2                0.2430          0.3613                  0.08758  \n",
       "3                0.2575          0.6638                  0.17300  \n",
       "4                0.1625          0.2364                  0.07678  \n",
       "\n",
       "[5 rows x 31 columns]"
      ]
     },
     "execution_count": 11,
     "metadata": {},
     "output_type": "execute_result"
    },
    {
     "data": {
      "text/plain": [
       "0    0.627417\n",
       "1    0.372583\n",
       "Name: target, dtype: float64"
      ]
     },
     "execution_count": 11,
     "metadata": {},
     "output_type": "execute_result"
    }
   ],
   "source": [
    "from sklearn.datasets import load_breast_cancer\n",
    "cancer = load_breast_cancer()\n",
    "cancer = pd.DataFrame(np.c_[cancer['target'], cancer['data']], \n",
    "                      columns = np.append('target', cancer['feature_names']))\n",
    "cancer['target'] = cancer['target'].map({0.0: 1, 1.0:0}).astype('int64')\n",
    "cancer.shape\n",
    "cancer.head()\n",
    "cancer.target.value_counts(normalize=True) #cancer.target.value_counts().plot(kind='bar', rot='360')"
   ]
  },
  {
   "cell_type": "markdown",
   "id": "settled-milwaukee",
   "metadata": {},
   "source": [
    "#### 층화 추출"
   ]
  },
  {
   "cell_type": "markdown",
   "id": "interstate-blake",
   "metadata": {},
   "source": [
    "## confusion_matrix"
   ]
  },
  {
   "cell_type": "markdown",
   "id": "failing-moment",
   "metadata": {},
   "source": [
    "### classification_report"
   ]
  },
  {
   "cell_type": "markdown",
   "id": "associate-albania",
   "metadata": {},
   "source": [
    "### 예측 모형의 성능지표 이해하기\n",
    "\n",
    "- **허위** 음성과 **허위** 양성은 **잘못** 분류\n",
    "- **실제** 음성과 **실제** 양성은 **올바로** 분류\n",
    "- **정확도**는 올바로 분류된 비율\n",
    "\n",
    "> $\\frac{\\text{true samples}}{\\text{total samples}}$\n",
    "\n",
    "- **정밀도**는 올바르게 분류된 **예측** 양성의 비율\n",
    "\n",
    "> $\\frac{\\text{true positives}}{\\text{true positives + false positives}}$\n",
    "\n",
    "- **재현율**은 올바르게 분류된 **실제** 양성의 비율\n",
    "\n",
    "> $\\frac{\\text{true positives}}{\\text{true positives + false negatives}}$\n",
    "\n",
    "- **AUC**는 ROC-AUC(Area Under the Curve of a Receiver Operating Characteristic) 곡선을 의미.\n",
    "- **AUPRC**는 PR curve AUC를 의미. 이 메트릭은 다양한 확률 임계값에 대한 정밀도-재현율 pair"
   ]
  },
  {
   "cell_type": "markdown",
   "id": "4a1e57e4",
   "metadata": {},
   "source": [
    "### manual calculation"
   ]
  },
  {
   "cell_type": "code",
   "execution_count": 16,
   "id": "lovely-crash",
   "metadata": {},
   "outputs": [
    {
     "name": "stdout",
     "output_type": "stream",
     "text": [
      "정확도(accuracy): 0.930\n",
      "정밀도(precision): [0.908 0.978]\n",
      "검측율(recall): [0.989 0.83 ]\n",
      "f1-score(Harmonic mean): [0.947 0.898]\n"
     ]
    }
   ],
   "source": [
    "cm = confusion_matrix(y_test, y_pred)\n",
    "print(f'정확도(accuracy): {(cm * np.eye(2)).sum() / cm.sum():.3f}')\n",
    "print(f'정밀도(precision): {((cm * np.eye(2)).sum(axis=0) / cm.sum(axis=0)).round(3)}')\n",
    "precision = (cm * np.eye(2)).sum(axis=0) / cm.sum(axis=0)\n",
    "print(f'검측율(recall): {((cm * np.eye(2)).sum(axis=1) / cm.sum(axis=1)).round(3)}')\n",
    "recall = (cm * np.eye(2)).sum(axis=1) / cm.sum(axis=1)\n",
    "print(f'f1-score(Harmonic mean): {((2 / (1 / precision + 1 / recall))).round(3)}')"
   ]
  },
  {
   "cell_type": "code",
   "execution_count": 43,
   "id": "8643b8f8",
   "metadata": {},
   "outputs": [
    {
     "data": {
      "text/plain": [
       "array([[3.76796579e-06, 9.99996232e-01],\n",
       "       [8.85468732e-01, 1.14531268e-01],\n",
       "       [8.63579569e-01, 1.36420431e-01],\n",
       "       [8.93773390e-01, 1.06226610e-01],\n",
       "       [7.90447446e-01, 2.09552554e-01],\n",
       "       [9.76891709e-01, 2.31082913e-02],\n",
       "       [9.81544705e-01, 1.84552947e-02],\n",
       "       [9.78905823e-01, 2.10941772e-02],\n",
       "       [9.68385682e-01, 3.16143178e-02],\n",
       "       [2.61464867e-01, 7.38535133e-01]])"
      ]
     },
     "execution_count": 43,
     "metadata": {},
     "output_type": "execute_result"
    },
    {
     "data": {
      "text/plain": [
       "(143, 143)"
      ]
     },
     "execution_count": 43,
     "metadata": {},
     "output_type": "execute_result"
    }
   ],
   "source": [
    "# 0일 확률, 1일 확률\n",
    "y_probas = clf.predict_proba(X_test)\n",
    "y_probas[0:10]\n",
    "n = len(y_probas)\n",
    "threshhold = np.linspace(0,1,n)\n",
    "y_pred = y_probas[:,1].reshape(-1,1) > threshhold.reshape(1,-1)\n",
    "y_pred.shape"
   ]
  },
  {
   "cell_type": "code",
   "execution_count": 46,
   "id": "72f8ae21",
   "metadata": {},
   "outputs": [
    {
     "data": {
      "text/plain": [
       "array([[ True,  True,  True, ...,  True,  True, False],\n",
       "       [ True,  True,  True, ..., False, False, False],\n",
       "       [ True,  True,  True, ..., False, False, False],\n",
       "       ...,\n",
       "       [ True,  True,  True, ..., False, False, False],\n",
       "       [ True,  True,  True, ..., False, False, False],\n",
       "       [ True,  True,  True, ..., False, False, False]])"
      ]
     },
     "execution_count": 46,
     "metadata": {},
     "output_type": "execute_result"
    },
    {
     "data": {
      "text/plain": [
       "array([[1, 1, 1, ..., 1, 1, 0],\n",
       "       [1, 1, 1, ..., 0, 0, 0],\n",
       "       [1, 1, 1, ..., 0, 0, 0],\n",
       "       ...,\n",
       "       [1, 1, 1, ..., 0, 0, 0],\n",
       "       [1, 1, 1, ..., 0, 0, 0],\n",
       "       [1, 1, 1, ..., 0, 0, 0]])"
      ]
     },
     "execution_count": 46,
     "metadata": {},
     "output_type": "execute_result"
    }
   ],
   "source": [
    "y_pred\n",
    "y_pred.astype('int')"
   ]
  },
  {
   "cell_type": "code",
   "execution_count": 41,
   "id": "sensitive-wonder",
   "metadata": {
    "scrolled": false
   },
   "outputs": [
    {
     "data": {
      "text/plain": [
       "array([ True,  True,  True,  True,  True,  True,  True,  True,  True,\n",
       "        True,  True,  True,  True,  True,  True,  True,  True,  True,\n",
       "        True,  True,  True,  True,  True,  True,  True,  True,  True,\n",
       "        True,  True,  True,  True,  True,  True,  True,  True,  True,\n",
       "        True,  True,  True,  True,  True,  True,  True,  True,  True,\n",
       "        True,  True,  True,  True,  True,  True,  True,  True,  True,\n",
       "        True,  True,  True,  True,  True,  True,  True,  True,  True,\n",
       "        True,  True,  True,  True,  True,  True,  True,  True,  True,\n",
       "        True,  True,  True,  True,  True,  True,  True,  True,  True,\n",
       "        True,  True,  True,  True,  True,  True,  True,  True,  True,\n",
       "        True,  True,  True,  True,  True,  True,  True,  True,  True,\n",
       "        True,  True,  True,  True,  True,  True,  True,  True,  True,\n",
       "        True,  True,  True,  True,  True,  True,  True,  True,  True,\n",
       "        True,  True,  True,  True,  True,  True,  True,  True,  True,\n",
       "        True,  True,  True,  True,  True,  True,  True,  True,  True,\n",
       "        True,  True,  True,  True,  True,  True,  True,  True])"
      ]
     },
     "execution_count": 41,
     "metadata": {},
     "output_type": "execute_result"
    },
    {
     "data": {
      "text/plain": [
       "array([False, False, False, False, False, False, False, False, False,\n",
       "       False, False, False, False, False, False, False, False, False,\n",
       "       False, False, False, False, False, False, False, False, False,\n",
       "       False, False, False, False, False, False, False, False, False,\n",
       "       False, False, False, False, False, False, False, False, False,\n",
       "       False, False, False, False, False, False, False, False, False,\n",
       "       False, False, False, False, False, False, False, False, False,\n",
       "       False, False, False, False, False, False, False, False, False,\n",
       "       False, False, False, False, False, False, False, False, False,\n",
       "       False, False, False, False, False, False, False, False, False,\n",
       "       False, False, False, False, False, False, False, False, False,\n",
       "       False, False, False, False, False, False, False, False, False,\n",
       "       False, False, False, False, False, False, False, False, False,\n",
       "       False, False, False, False, False, False, False, False, False,\n",
       "       False, False, False, False, False, False, False, False, False,\n",
       "       False, False, False, False, False, False, False, False])"
      ]
     },
     "execution_count": 41,
     "metadata": {},
     "output_type": "execute_result"
    }
   ],
   "source": [
    "y_pred[:, 0]\n",
    "y_pred[:, 142]"
   ]
  },
  {
   "cell_type": "code",
   "execution_count": 19,
   "id": "complimentary-engineering",
   "metadata": {},
   "outputs": [
    {
     "name": "stdout",
     "output_type": "stream",
     "text": [
      "              precision    recall  f1-score   support\n",
      "\n",
      "       생존(0)       1.00      0.43      0.60        90\n",
      "       사망(1)       0.51      1.00      0.68        53\n",
      "\n",
      "    accuracy                           0.64       143\n",
      "   macro avg       0.75      0.72      0.64       143\n",
      "weighted avg       0.82      0.64      0.63       143\n",
      "\n"
     ]
    },
    {
     "data": {
      "image/png": "[encoded data removed]",
      "text/plain": [
       "<Figure size 432x288 with 2 Axes>"
      ]
     },
     "metadata": {
      "needs_background": "light"
     },
     "output_type": "display_data"
    },
    {
     "name": "stdout",
     "output_type": "stream",
     "text": [
      "****************************************************************************************************\n",
      "              precision    recall  f1-score   support\n",
      "\n",
      "       생존(0)       0.83      1.00      0.91        90\n",
      "       사망(1)       1.00      0.66      0.80        53\n",
      "\n",
      "    accuracy                           0.87       143\n",
      "   macro avg       0.92      0.83      0.85       143\n",
      "weighted avg       0.90      0.87      0.87       143\n",
      "\n"
     ]
    },
    {
     "data": {
      "image/png": "[encoded data removed]",
      "text/plain": [
       "<Figure size 432x288 with 2 Axes>"
      ]
     },
     "metadata": {
      "needs_background": "light"
     },
     "output_type": "display_data"
    },
    {
     "name": "stdout",
     "output_type": "stream",
     "text": [
      "****************************************************************************************************\n"
     ]
    }
   ],
   "source": [
    "def threshhold_matrix(y_test, y_pred):   \n",
    "    target_names = ['생존(0)', '사망(1)']\n",
    "    cm = confusion_matrix(y_test, y_pred)\n",
    "    print(classification_report(y_test, y_pred, target_names=target_names))\n",
    "    sns.heatmap(cm, annot = True, fmt=\"d\"); plt.show()\n",
    "    print('*'*100)\n",
    "\n",
    "threshhold_matrix(y_test, y_pred[:,4])\n",
    "threshhold_matrix(y_test, y_pred[:,140])"
   ]
  },
  {
   "cell_type": "code",
   "execution_count": 20,
   "id": "small-think",
   "metadata": {},
   "outputs": [
    {
     "data": {
      "text/plain": [
       "<matplotlib.collections.PathCollection at 0x2154c0652b0>"
      ]
     },
     "execution_count": 20,
     "metadata": {},
     "output_type": "execute_result"
    },
    {
     "data": {
      "image/png": "[encoded data removed]",
      "text/plain": [
       "<Figure size 432x288 with 1 Axes>"
      ]
     },
     "metadata": {
      "needs_background": "light"
     },
     "output_type": "display_data"
    },
    {
     "data": {
      "text/plain": [
       "<sklearn.metrics._plot.roc_curve.RocCurveDisplay at 0x2154beca220>"
      ]
     },
     "execution_count": 20,
     "metadata": {},
     "output_type": "execute_result"
    },
    {
     "data": {
      "image/png": "[encoded data removed]",
      "text/plain": [
       "<Figure size 432x288 with 1 Axes>"
      ]
     },
     "metadata": {
      "needs_background": "light"
     },
     "output_type": "display_data"
    }
   ],
   "source": [
    "tpr = []; fpr = []\n",
    "for i in range(n):\n",
    "    cm = confusion_matrix(y_test, y_pred[:,i])\n",
    "    tpr.append(cm[0,0]/cm.sum(axis=1)[0])\n",
    "    fpr.append(cm[1,0]/cm.sum(axis=1)[1])\n",
    "plt.scatter(fpr, tpr); plt.show()\n",
    "\n",
    "from sklearn.metrics import plot_roc_curve\n",
    "plot_roc_curve(clf, X_test, y_test)  "
   ]
  },
  {
   "cell_type": "code",
   "execution_count": 24,
   "id": "active-crown",
   "metadata": {},
   "outputs": [
    {
     "data": {
      "text/plain": [
       "0.9090909090909091"
      ]
     },
     "execution_count": 24,
     "metadata": {},
     "output_type": "execute_result"
    },
    {
     "data": {
      "text/plain": [
       "0.9230769230769231"
      ]
     },
     "execution_count": 24,
     "metadata": {},
     "output_type": "execute_result"
    },
    {
     "data": {
      "text/plain": [
       "0.916083916083916"
      ]
     },
     "execution_count": 24,
     "metadata": {},
     "output_type": "execute_result"
    }
   ],
   "source": [
    "((clf.predict_proba(X_test)[:,1] >= 0.3) == y_test).mean()\n",
    "((clf.predict_proba(X_test)[:,1] >= 0.5) == y_test).mean()\n",
    "((clf.predict_proba(X_test)[:,1] >= 0.8) == y_test).mean()"
   ]
  },
  {
   "cell_type": "markdown",
   "id": "comfortable-territory",
   "metadata": {},
   "source": [
    "### roc_auc_score \n",
    "#### roc 아래의 면적 / 넓으면(1에 가까우면) 좋음"
   ]
  },
  {
   "cell_type": "code",
   "execution_count": 25,
   "id": "destroyed-regression",
   "metadata": {},
   "outputs": [
    {
     "data": {
      "text/plain": [
       "0.9775681341719078"
      ]
     },
     "execution_count": 25,
     "metadata": {},
     "output_type": "execute_result"
    }
   ],
   "source": [
    "from sklearn.metrics import roc_auc_score\n",
    "y_score = clf.predict_proba(X_test)[:, 1]\n",
    "roc_auc_score(y_test, y_score)"
   ]
  },
  {
   "cell_type": "markdown",
   "id": "cleared-clarity",
   "metadata": {},
   "source": [
    "### precision_recall_curve\n",
    "#### th 변화에 따른 두 값의 변화"
   ]
  },
  {
   "cell_type": "markdown",
   "id": "french-cholesterol",
   "metadata": {},
   "source": [
    "### average_precision_score"
   ]
  },
  {
   "cell_type": "code",
   "execution_count": 26,
   "id": "breeding-playlist",
   "metadata": {
    "scrolled": true
   },
   "outputs": [
    {
     "name": "stdout",
     "output_type": "stream",
     "text": [
      "Average precision-recall score: 0.97\n"
     ]
    }
   ],
   "source": [
    "from sklearn.metrics import average_precision_score\n",
    "average_precision = average_precision_score(y_test, y_score)\n",
    "print(f'Average precision-recall score: {average_precision:0.2f}')"
   ]
  },
  {
   "cell_type": "code",
   "execution_count": 27,
   "id": "other-specific",
   "metadata": {},
   "outputs": [
    {
     "data": {
      "text/plain": [
       "Text(0.5, 1.0, '2-class Precision-Recall curve: AP=0.97')"
      ]
     },
     "execution_count": 27,
     "metadata": {},
     "output_type": "execute_result"
    },
    {
     "data": {
      "image/png": "[encoded data removed]",
      "text/plain": [
       "<Figure size 432x288 with 1 Axes>"
      ]
     },
     "metadata": {
      "needs_background": "light"
     },
     "output_type": "display_data"
    }
   ],
   "source": [
    "from sklearn.metrics import plot_precision_recall_curve, average_precision_score\n",
    "disp = plot_precision_recall_curve(clf, X_test, y_test)\n",
    "disp.ax_.set_title(f'2-class Precision-Recall curve: AP={average_precision:0.2f}')"
   ]
  },
  {
   "cell_type": "code",
   "execution_count": 28,
   "id": "knowing-timing",
   "metadata": {
    "scrolled": false
   },
   "outputs": [
    {
     "data": {
      "text/plain": [
       "<AxesSubplot:title={'center':'ROC Curves'}, xlabel='False Positive Rate', ylabel='True Positive Rate'>"
      ]
     },
     "execution_count": 28,
     "metadata": {},
     "output_type": "execute_result"
    },
    {
     "data": {
      "text/plain": [
       "<AxesSubplot:title={'center':'Precision-Recall Curve'}, xlabel='Recall', ylabel='Precision'>"
      ]
     },
     "execution_count": 28,
     "metadata": {},
     "output_type": "execute_result"
    },
    {
     "data": {
      "image/png": "[encoded data removed]",
      "text/plain": [
       "<Figure size 432x288 with 1 Axes>"
      ]
     },
     "metadata": {
      "needs_background": "light"
     },
     "output_type": "display_data"
    },
    {
     "data": {
      "image/png": "[encoded data removed]",
      "text/plain": [
       "<Figure size 432x288 with 1 Axes>"
      ]
     },
     "metadata": {
      "needs_background": "light"
     },
     "output_type": "display_data"
    }
   ],
   "source": [
    "import scikitplot as skplt \n",
    "skplt.metrics.plot_roc(y_test, y_probas)\n",
    "skplt.metrics.plot_precision_recall(y_test, y_probas)"
   ]
  },
  {
   "cell_type": "code",
   "execution_count": 29,
   "id": "deluxe-replacement",
   "metadata": {},
   "outputs": [],
   "source": [
    "from sklearn.metrics import precision_recall_curve\n",
    "\n",
    "def to_labels(pos_probs, threshold):\n",
    "    return (pos_probs >= threshold).astype('int')\n",
    "\n",
    "precisions, recalls, thresholds = precision_recall_curve(y_test, y_probas[:, 1])\n",
    "scores = [np.sum(to_labels(y_probas[:, 1], t))/len(y_probas[:, 1]) for t in thresholds]"
   ]
  },
  {
   "cell_type": "code",
   "execution_count": 30,
   "id": "purple-greene",
   "metadata": {
    "scrolled": false
   },
   "outputs": [
    {
     "data": {
      "image/png": "[encoded data removed]",
      "text/plain": [
       "<Figure size 1080x432 with 1 Axes>"
      ]
     },
     "metadata": {
      "needs_background": "light"
     },
     "output_type": "display_data"
    }
   ],
   "source": [
    "def plot_precision_recall_vs_threshold(precisions, recalls, thresholds): \n",
    "    plt.rcParams[\"figure.figsize\"] = (15,6)\n",
    "    plt.rcParams['font.family']='Malgun Gothic' # 한글폰트\n",
    "    plt.title('분류임계값과 (정밀도, 재현율, F1-score, 양성판정비율)', fontsize='16') \n",
    "    plt.plot(thresholds, precisions[:-1], 'b-', label='정밀도(Precision)') # 판사\n",
    "    plt.plot(thresholds, recalls[:-1], 'g-', label='재현율(Recall)') # 검사\n",
    "    plt.plot(thresholds, (2*precisions[:-1]*recalls[:-1])/(precisions[:-1] +recalls[:-1]), \n",
    "             'r-', label='f1 score(PR조화평균)') # 변호사\n",
    "    plt.plot(thresholds, scores, 'k--', label='양성판정비율') # q-ratio\n",
    "    plt.ylabel('정밀도 /  재현율', fontsize='14') \n",
    "    plt.xlabel('분류임계값', fontsize='14') \n",
    "    plt.legend(loc='best', fontsize='14') \n",
    "    \n",
    "plot_precision_recall_vs_threshold(precisions, recalls, thresholds)"
   ]
  },
  {
   "cell_type": "markdown",
   "id": "technical-intake",
   "metadata": {},
   "source": [
    "## f1-score가 최대인 threshold?"
   ]
  },
  {
   "cell_type": "code",
   "execution_count": 31,
   "id": "material-train",
   "metadata": {},
   "outputs": [
    {
     "name": "stdout",
     "output_type": "stream",
     "text": [
      "Threshold(분류임계값)=0.707, at Maximum F-measure=0.898\n"
     ]
    }
   ],
   "source": [
    "from sklearn.metrics import f1_score\n",
    "scores = [f1_score(y_test, to_labels(y_probas[:, 1], t)) for t in thresholds]\n",
    "ix = np.argmax(scores)\n",
    "print(f'Threshold(분류임계값)={thresholds[ix]:.3f}, at Maximum F-measure={scores[ix]:.3f}')"
   ]
  },
  {
   "cell_type": "markdown",
   "id": "environmental-detection",
   "metadata": {},
   "source": [
    "### plot_lift_curve / plot_cumulative_gain\n",
    "- lift: the ratio between the results obtained with and without the predictive model\n",
    "- cumulative_gain: percentage of the overall number of cases in a given category \"gained\" by targeting a percentage of the total number of cases"
   ]
  },
  {
   "cell_type": "code",
   "execution_count": 32,
   "id": "binding-submission",
   "metadata": {},
   "outputs": [],
   "source": [
    "plt.rcParams[\"figure.figsize\"] = (4,4)"
   ]
  },
  {
   "cell_type": "code",
   "execution_count": 33,
   "id": "structured-student",
   "metadata": {
    "scrolled": false
   },
   "outputs": [
    {
     "data": {
      "text/plain": [
       "<AxesSubplot:title={'center':'Lift Curve'}, xlabel='Percentage of sample', ylabel='Lift'>"
      ]
     },
     "execution_count": 33,
     "metadata": {},
     "output_type": "execute_result"
    },
    {
     "data": {
      "image/png": "[encoded data removed]",
      "text/plain": [
       "<Figure size 288x288 with 1 Axes>"
      ]
     },
     "metadata": {
      "needs_background": "light"
     },
     "output_type": "display_data"
    },
    {
     "data": {
      "text/plain": [
       "<AxesSubplot:title={'center':'Cumulative Gains Curve'}, xlabel='Percentage of sample', ylabel='Gain'>"
      ]
     },
     "execution_count": 33,
     "metadata": {},
     "output_type": "execute_result"
    },
    {
     "data": {
      "image/png": "[encoded data removed]",
      "text/plain": [
       "<Figure size 288x288 with 1 Axes>"
      ]
     },
     "metadata": {
      "needs_background": "light"
     },
     "output_type": "display_data"
    }
   ],
   "source": [
    "skplt.metrics.plot_lift_curve(y_test, y_probas); plt.show()\n",
    "skplt.metrics.plot_cumulative_gain(y_test, y_probas)"
   ]
  },
  {
   "cell_type": "code",
   "execution_count": null,
   "id": "dramatic-shark",
   "metadata": {},
   "outputs": [],
   "source": []
  },
  {
   "cell_type": "markdown",
   "id": "neither-knock",
   "metadata": {},
   "source": [
    "## 1.1.3. Probalistic Metrics"
   ]
  },
  {
   "cell_type": "markdown",
   "id": "73c945f5",
   "metadata": {},
   "source": [
    "### brier_score_loss\n",
    "#### mean square error 값과 동일"
   ]
  },
  {
   "cell_type": "code",
   "execution_count": 34,
   "id": "forty-tournament",
   "metadata": {},
   "outputs": [
    {
     "data": {
      "text/plain": [
       "0.05393556118435772"
      ]
     },
     "execution_count": 34,
     "metadata": {},
     "output_type": "execute_result"
    },
    {
     "data": {
      "text/plain": [
       "0.05393556118435772"
      ]
     },
     "execution_count": 34,
     "metadata": {},
     "output_type": "execute_result"
    }
   ],
   "source": [
    "from sklearn.metrics import brier_score_loss\n",
    "brier_score_loss(y_test, y_score)\n",
    "brier_score_loss(y_test, y_probas[:, 1])"
   ]
  },
  {
   "cell_type": "markdown",
   "id": "scheduled-alert",
   "metadata": {},
   "source": [
    "### log_loss\n",
    "- Log Loss is the negative average of the log of corrected predicted probabilities for each instance\n",
    "- 예측된 확률과 실제값의 차이의 log 값은 1에 가까울 수록 0에 근접\n",
    "<img src ='https://editor.analyticsvidhya.com/uploads/90149Capture0.PNG'>"
   ]
  },
  {
   "cell_type": "markdown",
   "id": "engaging-ukraine",
   "metadata": {},
   "source": [
    "### matthews_corrcoef\n",
    "<img src=\"https://wikimedia.org/api/rest_v1/media/math/render/svg/33f3d62224f97cdef8bc559ee455c3f4815f5788\">\n",
    "\n",
    "- MCC is defined identically to Pearson's phi coefficient\n",
    "- unbalanced 상황에서 잘 맞음"
   ]
  },
  {
   "cell_type": "markdown",
   "id": "limiting-ground",
   "metadata": {},
   "source": [
    "### cohen_kappa_score\n",
    "- Cohen's kappa measures the agreement between two raters\n",
    "<img src=\"https://wikimedia.org/api/rest_v1/media/math/render/svg/1a7a8f738ea187a60443bac93cd53b4d9d6b2231\">"
   ]
  },
  {
   "cell_type": "markdown",
   "id": "running-fifteen",
   "metadata": {},
   "source": [
    "# End"
   ]
  }
 ],
 "metadata": {
  "kernelspec": {
   "display_name": "Python 3 (ipykernel)",
   "language": "python",
   "name": "python3"
  },
  "language_info": {
   "codemirror_mode": {
    "name": "ipython",
    "version": 3
   },
   "file_extension": ".py",
   "mimetype": "text/x-python",
   "name": "python",
   "nbconvert_exporter": "python",
   "pygments_lexer": "ipython3",
   "version": "3.8.8"
  }
 },
 "nbformat": 4,
 "nbformat_minor": 5
}
