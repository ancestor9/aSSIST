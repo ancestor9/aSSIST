{
 "cells": [
  {
   "cell_type": "markdown",
   "id": "acb171a5",
   "metadata": {},
   "source": [
    "# <font color = 'green'> Getting started\n",
    "https://scikit-learn.org/stable/getting_started.html"
   ]
  },
  {
   "cell_type": "code",
   "execution_count": 1,
   "id": "90b4ac54",
   "metadata": {},
   "outputs": [
    {
     "data": {
      "text/html": [
       "<style>.container { width:100% !important; }</style>"
      ],
      "text/plain": [
       "<IPython.core.display.HTML object>"
      ]
     },
     "metadata": {},
     "output_type": "display_data"
    }
   ],
   "source": [
    "from IPython.core.display import display, HTML\n",
    "display(HTML(\"<style>.container { width:100% !important; }</style>\"))\n",
    "from IPython.core.interactiveshell import InteractiveShell\n",
    "InteractiveShell.ast_node_interactivity = 'all'\n",
    "import warnings\n",
    "warnings.filterwarnings(action='ignore') "
   ]
  },
  {
   "cell_type": "markdown",
   "id": "8f60628d",
   "metadata": {},
   "source": [
    "# Fitting and predicting: estimator basics\n",
    "<img src='https://media.istockphoto.com/photos/this-one-match-perfect-with-me-picture-id1293366109?b=1&k=20&m=1293366109&s=170667a&w=0&h=2z_h2WlM3291IRKFXrdmtObnCt93rNNdNN6mqvnKD1I='>"
   ]
  },
  {
   "cell_type": "markdown",
   "id": "27542bd2",
   "metadata": {},
   "source": [
    "# Model evaluation\n",
    "<img src='https://images.unsplash.com/photo-1543728069-a3f97c5a2f32?ixlib=rb-1.2.1&ixid=MnwxMjA3fDB8MHxzZWFyY2h8M3x8ZmFzaGlvbiUyMHNob3d8ZW58MHx8MHx8&auto=format&fit=crop&w=500&q=60'>"
   ]
  },
  {
   "cell_type": "code",
   "execution_count": 29,
   "id": "e772fe31",
   "metadata": {},
   "outputs": [],
   "source": [
    "X_train = X[0:100, ]; X_test = X[100:, ]\n",
    "y_train = y[0:100]; y_test = y[100:]"
   ]
  },
  {
   "cell_type": "code",
   "execution_count": 30,
   "id": "267028f2",
   "metadata": {},
   "outputs": [
    {
     "data": {
      "text/plain": [
       "array([ 65,  81, 110,  11,   0,  53,  84, 108, 129,  51,   3,  14,  26,\n",
       "        63,  36,  31,  67,  60,   3,  21,  20,  75, 125,  71, 124,  97,\n",
       "        44,   5, 136,   7,  59,  71,  54,  10,  65,  35,  15,  23, 122,\n",
       "        81,  63,  88,  71,  21, 134,   2,  35, 141, 139,  55,  41,  35,\n",
       "        68,  94, 122,  94,   8,  10,  70,  10, 131,  87, 143,  69,   1,\n",
       "       128, 107, 127, 121,  83,  73,  43,  61, 120, 132,   1, 100,   0,\n",
       "       117,  12,  10, 136,  72, 133,  68,  77, 113,  65,  72,   3,  90,\n",
       "        15,   8,  52,  49,  83,  39, 101,  70, 147])"
      ]
     },
     "execution_count": 30,
     "metadata": {},
     "output_type": "execute_result"
    }
   ],
   "source": [
    "X_train_index = np.random.randint(0, 150, 100)\n",
    "X_train_index"
   ]
  },
  {
   "cell_type": "code",
   "execution_count": 31,
   "id": "58443d3f",
   "metadata": {},
   "outputs": [
    {
     "data": {
      "text/plain": [
       "array([ True,  True,  True,  True, False,  True, False,  True,  True,\n",
       "       False,  True,  True,  True, False,  True,  True, False, False,\n",
       "       False, False,  True,  True, False,  True, False, False,  True,\n",
       "       False, False, False, False,  True, False, False, False,  True,\n",
       "        True, False, False,  True, False,  True, False,  True,  True,\n",
       "       False, False, False, False,  True, False,  True,  True,  True,\n",
       "        True,  True, False, False, False,  True,  True,  True, False,\n",
       "        True, False,  True, False,  True,  True,  True,  True,  True,\n",
       "        True,  True, False,  True, False,  True, False, False, False,\n",
       "        True, False,  True,  True, False, False,  True,  True, False,\n",
       "        True, False, False, False,  True, False, False,  True, False,\n",
       "       False,  True,  True, False, False, False, False, False,  True,\n",
       "        True, False,  True, False, False,  True, False, False, False,\n",
       "        True, False, False,  True,  True,  True, False,  True,  True,\n",
       "       False,  True,  True,  True, False,  True,  True,  True,  True,\n",
       "       False,  True, False, False,  True, False,  True, False,  True,\n",
       "       False, False, False,  True, False, False])"
      ]
     },
     "execution_count": 31,
     "metadata": {},
     "output_type": "execute_result"
    }
   ],
   "source": [
    "np.isin(np.arange(0,150), X_train_index)"
   ]
  },
  {
   "cell_type": "code",
   "execution_count": 33,
   "id": "a2d4c2f5",
   "metadata": {
    "scrolled": true
   },
   "outputs": [
    {
     "data": {
      "text/plain": [
       "(112, 4)"
      ]
     },
     "execution_count": 33,
     "metadata": {},
     "output_type": "execute_result"
    },
    {
     "data": {
      "text/plain": [
       "(38, 4)"
      ]
     },
     "execution_count": 33,
     "metadata": {},
     "output_type": "execute_result"
    }
   ],
   "source": [
    "from sklearn.model_selection import train_test_split\n",
    "\n",
    "X_train, X_test, y_train, y_test = train_test_split(X, y, random_state=0)\n",
    "X_train.shape\n",
    "X_test.shape"
   ]
  },
  {
   "cell_type": "markdown",
   "id": "c1223c57",
   "metadata": {},
   "source": [
    "https://scikit-learn.org/stable/modules/generated/sklearn.ensemble.RandomForestClassifier.html"
   ]
  },
  {
   "cell_type": "markdown",
   "id": "1924da23",
   "metadata": {},
   "source": [
    "# cross validation\n",
    "<img src = 'https://scikit-learn.org/stable/_images/grid_search_cross_validation.png' width=600 height=300>"
   ]
  },
  {
   "cell_type": "markdown",
   "id": "5fd1ae96",
   "metadata": {},
   "source": [
    "# hyperparameter\n",
    "https://scikit-learn.org/stable/modules/cross_validation.html#cross-validation\n",
    "<img src='https://scikit-learn.org/stable/_images/grid_search_workflow.png' width=600 height=300>"
   ]
  },
  {
   "cell_type": "code",
   "execution_count": 54,
   "id": "39b8c618",
   "metadata": {},
   "outputs": [
    {
     "data": {
      "text/plain": [
       "array([[   8.3252    ,   41.        ,    6.98412698, ...,    2.55555556,\n",
       "          37.88      , -122.23      ],\n",
       "       [   8.3014    ,   21.        ,    6.23813708, ...,    2.10984183,\n",
       "          37.86      , -122.22      ],\n",
       "       [   7.2574    ,   52.        ,    8.28813559, ...,    2.80225989,\n",
       "          37.85      , -122.24      ],\n",
       "       ...,\n",
       "       [   1.7       ,   17.        ,    5.20554273, ...,    2.3256351 ,\n",
       "          39.43      , -121.22      ],\n",
       "       [   1.8672    ,   18.        ,    5.32951289, ...,    2.12320917,\n",
       "          39.43      , -121.32      ],\n",
       "       [   2.3886    ,   16.        ,    5.25471698, ...,    2.61698113,\n",
       "          39.37      , -121.24      ]])"
      ]
     },
     "execution_count": 54,
     "metadata": {},
     "output_type": "execute_result"
    },
    {
     "data": {
      "text/plain": [
       "array([4.526, 3.585, 3.521, ..., 0.923, 0.847, 0.894])"
      ]
     },
     "execution_count": 54,
     "metadata": {},
     "output_type": "execute_result"
    }
   ],
   "source": [
    "from sklearn.datasets import fetch_california_housing\n",
    "from sklearn.ensemble import RandomForestRegressor\n",
    "from sklearn.model_selection import RandomizedSearchCV, GridSearchCV\n",
    "from sklearn.model_selection import train_test_split\n",
    "from scipy.stats import randint\n",
    "\n",
    "X, y = fetch_california_housing(return_X_y=True)\n",
    "X_train, X_test, y_train, y_test = train_test_split(X, y, random_state=0)\n",
    "##############################################################################\n",
    "X\n",
    "y"
   ]
  },
  {
   "cell_type": "markdown",
   "id": "015d0b6b",
   "metadata": {},
   "source": [
    "# GridsearchCV"
   ]
  },
  {
   "cell_type": "markdown",
   "id": "a0d714d3",
   "metadata": {},
   "source": [
    "# RandomizedsearchCV\n",
    "<img src='https://media.istockphoto.com/photos/explorer-in-the-field-picture-id157180213?b=1&k=20&m=157180213&s=170667a&w=0&h=v6UYlB3gRWEmnwhDfIHtLkBbVvG4Bd4ssa-B74uRi-I='>"
   ]
  },
  {
   "cell_type": "markdown",
   "id": "e9c34b6a",
   "metadata": {},
   "source": [
    "## GridSearchCV vs. RandomizedSearchCV\n",
    "https://scikit-learn.org/stable/modules/generated/sklearn.model_selection.RandomizedSearchCV.html\n",
    "<img src = 'https://raw.githubusercontent.com/nslatysheva/data_science_blogging/master/expanding_ML_toolkit/expanding_toolkit.jpg' width=500 height=300>"
   ]
  },
  {
   "cell_type": "markdown",
   "id": "f4b28b96",
   "metadata": {},
   "source": [
    "### HalvingGridSearchCV, Baysian optimization search, genetic algorithm search, Optuna search....etcm"
   ]
  },
  {
   "cell_type": "markdown",
   "id": "3fdf81d4",
   "metadata": {},
   "source": [
    "# Transformers and pre-processors\n",
    "<img src='https://images.unsplash.com/photo-1618945524163-32451704cbb8?ixlib=rb-1.2.1&ixid=MnwxMjA3fDB8MHxzZWFyY2h8OHx8dHJhbnNmb3JtZXJ8ZW58MHx8MHx8&auto=format&fit=crop&w=500&q=60'>"
   ]
  },
  {
   "cell_type": "markdown",
   "id": "fc1c9d3e",
   "metadata": {},
   "source": [
    "# Pipelines: chaining pre-processors and estimators\n",
    "<img src='https://images.unsplash.com/photo-1553159925-02b2e24f471d?ixlib=rb-1.2.1&ixid=MnwxMjA3fDB8MHxwaG90by1wYWdlfHx8fGVufDB8fHx8&auto=format&fit=crop&w=2067&q=80' width=600 height=300>"
   ]
  },
  {
   "cell_type": "markdown",
   "id": "579577d5",
   "metadata": {},
   "source": [
    "# Pipelines: hyperparameters"
   ]
  },
  {
   "cell_type": "markdown",
   "id": "7f28a68c",
   "metadata": {},
   "source": [
    "## Pipeline"
   ]
  },
  {
   "cell_type": "code",
   "execution_count": 85,
   "id": "f70dfe86",
   "metadata": {},
   "outputs": [],
   "source": [
    "# load the iris dataset and split it into train and test sets\n",
    "X, y = load_iris(return_X_y=True)\n",
    "X[:, 2] = X[:, 2]*100\n",
    "\n",
    "X_train, X_test, y_train, y_test = train_test_split(X, y, random_state=0)"
   ]
  },
  {
   "cell_type": "code",
   "execution_count": 86,
   "id": "42d67b20",
   "metadata": {},
   "outputs": [
    {
     "data": {
      "text/plain": [
       "Pipeline(steps=[('scaler', StandardScaler()), ('lgr', LogisticRegression())])"
      ]
     },
     "execution_count": 86,
     "metadata": {},
     "output_type": "execute_result"
    },
    {
     "data": {
      "text/plain": [
       "0.9736842105263158"
      ]
     },
     "execution_count": 86,
     "metadata": {},
     "output_type": "execute_result"
    }
   ],
   "source": [
    "# create a pipeline object\n",
    "from sklearn.pipeline import Pipeline\n",
    "\n",
    "steps = [('scaler', StandardScaler()), ('lgr', LogisticRegression())]\n",
    "pipeline = Pipeline(steps) # define the pipeline object.\n",
    "\n",
    "# fit the whole pipeline\n",
    "pipeline.fit(X_train, y_train)\n",
    "\n",
    "# we can now use it like any other estimator\n",
    "accuracy_score(pipeline.predict(X_test), y_test)"
   ]
  },
  {
   "cell_type": "code",
   "execution_count": 87,
   "id": "250f6e9a",
   "metadata": {},
   "outputs": [
    {
     "data": {
      "text/plain": [
       "RandomizedSearchCV(estimator=Pipeline(steps=[('scaler', StandardScaler()),\n",
       "                                             ('rf',\n",
       "                                              RandomForestRegressor(random_state=0))]),\n",
       "                   n_iter=5,\n",
       "                   param_distributions={'rf__max_depth': <scipy.stats._distn_infrastructure.rv_frozen object at 0x0000018AD98EA7C0>,\n",
       "                                        'rf__n_estimators': <scipy.stats._distn_infrastructure.rv_frozen object at 0x0000018AD9127C40>},\n",
       "                   random_state=0)"
      ]
     },
     "execution_count": 87,
     "metadata": {},
     "output_type": "execute_result"
    },
    {
     "data": {
      "text/plain": [
       "0.7354483324284191"
      ]
     },
     "execution_count": 87,
     "metadata": {},
     "output_type": "execute_result"
    }
   ],
   "source": [
    "X, y = fetch_california_housing(return_X_y=True)\n",
    "X[:, 2] = X[:, 2]*10000\n",
    "\n",
    "X_train, X_test, y_train, y_test = train_test_split(X, y, random_state=0)\n",
    "##############################################################################\n",
    "# create a pipeline object\n",
    "steps = [('scaler', StandardScaler()), ('rf', RandomForestRegressor(random_state=0))]\n",
    "pipeline = Pipeline(steps) # define the pipeline object.\n",
    "\n",
    "# define the parameter space that will be searched over\n",
    "param_distributions = {'rf__n_estimators': randint(1, 5),\n",
    "                       'rf__max_depth': randint(5, 10)}\n",
    "\n",
    "# now create a searchCV object and fit it to the data\n",
    "search = RandomizedSearchCV(estimator= pipeline,\n",
    "                            n_iter=5,\n",
    "                            param_distributions=param_distributions,\n",
    "                            #cv = 3,\n",
    "                            random_state=0)\n",
    "search.fit(X_train, y_train)\n",
    "##############################################################################\n",
    "search.score(X_test, y_test)"
   ]
  },
  {
   "cell_type": "markdown",
   "id": "7dccd284",
   "metadata": {},
   "source": [
    "# The performance of model depends on data patterns.\n",
    "https://scikit-learn.org/stable/modules/generated/sklearn.neural_network.MLPClassifier.html"
   ]
  },
  {
   "cell_type": "code",
   "execution_count": 88,
   "id": "629f4027",
   "metadata": {
    "scrolled": true
   },
   "outputs": [
    {
     "data": {
      "text/plain": [
       "RandomForestClassifier(random_state=0)"
      ]
     },
     "execution_count": 88,
     "metadata": {},
     "output_type": "execute_result"
    },
    {
     "data": {
      "text/plain": [
       "0.9622222222222222"
      ]
     },
     "execution_count": 88,
     "metadata": {},
     "output_type": "execute_result"
    },
    {
     "data": {
      "text/plain": [
       "Perceptron()"
      ]
     },
     "execution_count": 88,
     "metadata": {},
     "output_type": "execute_result"
    },
    {
     "data": {
      "text/plain": [
       "0.9533333333333334"
      ]
     },
     "execution_count": 88,
     "metadata": {},
     "output_type": "execute_result"
    },
    {
     "data": {
      "text/plain": [
       "MLPClassifier(max_iter=300, random_state=1)"
      ]
     },
     "execution_count": 88,
     "metadata": {},
     "output_type": "execute_result"
    },
    {
     "data": {
      "text/plain": [
       "0.9688888888888889"
      ]
     },
     "execution_count": 88,
     "metadata": {},
     "output_type": "execute_result"
    }
   ],
   "source": [
    "from sklearn.datasets import load_digits\n",
    "from sklearn.linear_model import Perceptron\n",
    "from sklearn.neural_network import MLPClassifier\n",
    "\n",
    "X, y = load_digits(return_X_y=True)\n",
    "X_train, X_test, y_train, y_test = train_test_split(X, y, stratify=y,\n",
    "                                                    random_state=1)\n",
    "estimators = [RandomForestClassifier(random_state=0), \n",
    "              Perceptron(tol=1e-3, random_state=0), MLPClassifier(random_state=1, max_iter=300)]\n",
    "\n",
    "for estimator in estimators:\n",
    "    estimator.fit(X_train, y_train)\n",
    "    estimator.score(X_test, y_test)"
   ]
  },
  {
   "cell_type": "code",
   "execution_count": 89,
   "id": "1c26288e",
   "metadata": {},
   "outputs": [],
   "source": [
    "from sklearn.naive_bayes import GaussianNB\n",
    "from sklearn.neighbors import KNeighborsClassifier\n",
    "from sklearn.svm import SVC\n",
    "from mlxtend.plotting import plot_decision_regions # 2차원 특성변수의 분류경계선을 시각\n",
    "clfs = [RandomForestClassifier(), SVC(), GaussianNB(), KNeighborsClassifier()]"
   ]
  },
  {
   "cell_type": "code",
   "execution_count": 90,
   "id": "ae120c2d",
   "metadata": {},
   "outputs": [],
   "source": [
    "from sklearn import datasets\n",
    "X, y = datasets.load_wine(return_X_y=True, as_frame=True)\n",
    "df = X.merge(y, left_index=True, right_index=True)"
   ]
  },
  {
   "cell_type": "code",
   "execution_count": 91,
   "id": "ad7da071",
   "metadata": {},
   "outputs": [
    {
     "data": {
      "text/plain": [
       "1.0"
      ]
     },
     "execution_count": 91,
     "metadata": {},
     "output_type": "execute_result"
    },
    {
     "data": {
      "text/plain": [
       "1.0"
      ]
     },
     "execution_count": 91,
     "metadata": {},
     "output_type": "execute_result"
    }
   ],
   "source": [
    "X = df[['alcohol','flavanoids']]\n",
    "y = df['target']\n",
    "\n",
    "clf = RandomForestClassifier(random_state=0)\n",
    "y_pred = clf.fit(X,y).predict(X)\n",
    "\n",
    "(y_pred == y).mean()\n",
    "from sklearn.metrics import accuracy_score # 사이킷런의 정확도 산출 모듈\n",
    "accuracy_score(y_pred, y)"
   ]
  },
  {
   "cell_type": "code",
   "execution_count": 92,
   "id": "e21fdb6a",
   "metadata": {},
   "outputs": [
    {
     "name": "stdout",
     "output_type": "stream",
     "text": [
      "RandomForestClassifier()알고리즘의 예측 모형정확도 1.0\n"
     ]
    },
    {
     "data": {
      "text/plain": [
       "<AxesSubplot:>"
      ]
     },
     "execution_count": 92,
     "metadata": {},
     "output_type": "execute_result"
    },
    {
     "data": {
      "image/png": "[encoded data removed]",
      "text/plain": [
       "<Figure size 432x288 with 1 Axes>"
      ]
     },
     "metadata": {
      "needs_background": "light"
     },
     "output_type": "display_data"
    },
    {
     "name": "stdout",
     "output_type": "stream",
     "text": [
      "SVC()알고리즘의 예측 모형정확도 0.93\n"
     ]
    },
    {
     "data": {
      "text/plain": [
       "<AxesSubplot:>"
      ]
     },
     "execution_count": 92,
     "metadata": {},
     "output_type": "execute_result"
    },
    {
     "data": {
      "image/png": "[encoded data removed]",
      "text/plain": [
       "<Figure size 432x288 with 1 Axes>"
      ]
     },
     "metadata": {
      "needs_background": "light"
     },
     "output_type": "display_data"
    },
    {
     "name": "stdout",
     "output_type": "stream",
     "text": [
      "GaussianNB()알고리즘의 예측 모형정확도 0.92\n"
     ]
    },
    {
     "data": {
      "text/plain": [
       "<AxesSubplot:>"
      ]
     },
     "execution_count": 92,
     "metadata": {},
     "output_type": "execute_result"
    },
    {
     "data": {
      "image/png": "[encoded data removed]",
      "text/plain": [
       "<Figure size 432x288 with 1 Axes>"
      ]
     },
     "metadata": {
      "needs_background": "light"
     },
     "output_type": "display_data"
    },
    {
     "name": "stdout",
     "output_type": "stream",
     "text": [
      "KNeighborsClassifier()알고리즘의 예측 모형정확도 0.93\n"
     ]
    },
    {
     "data": {
      "text/plain": [
       "<AxesSubplot:>"
      ]
     },
     "execution_count": 92,
     "metadata": {},
     "output_type": "execute_result"
    },
    {
     "data": {
      "image/png": "[encoded data removed]",
      "text/plain": [
       "<Figure size 432x288 with 1 Axes>"
      ]
     },
     "metadata": {
      "needs_background": "light"
     },
     "output_type": "display_data"
    }
   ],
   "source": [
    "import matplotlib.pyplot as plt\n",
    "get_ipython().run_line_magic('matplotlib', 'inline')\n",
    "for i, clf in enumerate(clfs) :\n",
    "    y_pred = clf.fit(X,y).predict(X)\n",
    "    print(f'{clf}알고리즘의 예측 모형정확도 {accuracy_score(y_pred, y).round(2)}') # 정확도(Accuracy)\n",
    "    plot_decision_regions(X.values, y.values, clf=clf, legend=2); plt.show()"
   ]
  },
  {
   "cell_type": "markdown",
   "id": "24fdafdf",
   "metadata": {},
   "source": [
    "# End"
   ]
  },
  {
   "cell_type": "code",
   "execution_count": null,
   "id": "5fcdfe1c",
   "metadata": {},
   "outputs": [],
   "source": []
  },
  {
   "cell_type": "code",
   "execution_count": null,
   "id": "5399c3ff",
   "metadata": {},
   "outputs": [],
   "source": []
  }
 ],
 "metadata": {
  "kernelspec": {
   "display_name": "Python 3 (ipykernel)",
   "language": "python",
   "name": "python3"
  },
  "language_info": {
   "codemirror_mode": {
    "name": "ipython",
    "version": 3
   },
   "file_extension": ".py",
   "mimetype": "text/x-python",
   "name": "python",
   "nbconvert_exporter": "python",
   "pygments_lexer": "ipython3",
   "version": "3.8.8"
  }
 },
 "nbformat": 4,
 "nbformat_minor": 5
}
